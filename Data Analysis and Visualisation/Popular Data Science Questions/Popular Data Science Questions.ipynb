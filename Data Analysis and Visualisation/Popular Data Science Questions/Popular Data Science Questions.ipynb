{
 "cells": [
  {
   "cell_type": "markdown",
   "metadata": {
    "collapsed": true
   },
   "source": [
    "# Popular Data Science Questions\n",
    "\n",
    "In this project, we will use [Data Science Stack Exchange](https://datascience.stackexchange.com/) (DSSE) to determine what content should a data science education company create based on the answer to the question \"*What is it that people want to learn about in data science?*\".\n",
    "\n",
    "\n",
    "## Stack Exchange\n",
    "\n",
    "**What kind of questions are welcome on this site?**\n",
    "\n",
    "On DSSE's help centre *Asking* section, we can find that we should:\n",
    "\n",
    "- Avoid subjective questions\n",
    "- Ask practical, answerable questions about Data Science\n",
    "- Ask specific questions\n",
    "- Make questions relevant to others\n",
    "\n",
    "**What, other than questions, does DSSE's [home](https://datascience.stackexchange.com/) subdivide into?**\n",
    "\n",
    "There are four sections on the home page:\n",
    "\n",
    "- [Questions](https://datascience.stackexchange.com/questions) — a list of all questions asked\n",
    "- [Tags](https://datascience.stackexchange.com/tags) — a list of tags (keywords or labels that categorise questions)\n",
    "- [Users](https://datascience.stackexchange.com/users) — a list of users\n",
    "- [Unanswered](https://datascience.stackexchange.com/unanswered) — a list of unanswered questions\n",
    "\n",
    "The tagging system used by Stack Exchange looks exactly like what we need to achieve the main goal of this project since it enables us to quantify how many questions are asked about each subject.\n",
    "\n",
    "**What information is available in each post?**\n",
    "\n",
    "Some of the information we find is:\n",
    "\n",
    "- For both questions and answers:\n",
    " - The posts' score\n",
    " - The posts' title\n",
    " - The posts' author\n",
    " - The posts' body\n",
    "\n",
    "\n",
    "- For questions only:\n",
    " - When the question was asked\n",
    " - How long the question has been active\n",
    " - Number of views\n",
    " - Related questions\n",
    " - The question's tags\n",
    " \n",
    " \n",
    " ## Stack Exchange Data Explorer (SEDE)\n",
    " \n",
    "Investigating a few of the tables, the following ones sound more promising for our goal.\n",
    "\n",
    "- Posts\n",
    "- PostTags\n",
    "- Tags\n",
    "- TagSynonyms\n",
    "\n",
    "After running a few queries to get a feel for the data, the `Tags` table looked very appropriate as it informs us how many times each tag was used. \n",
    "\n",
    "\n",
    "| Id  | TagName          | Count | ExcerptPostId | WikiPostId |\n",
    "|-----|------------------|-------|---------------|------------|\n",
    "| 2   | machine-learning | 9203  | 4909          | 4908       |\n",
    "| 46  | python           | 5414  | 5523          | 5522       |\n",
    "| 194 | deep-learning    | 3916  | 8956          | 8955       |\n",
    "| 81  | neural-network   | 3759  | 8885          | 8884       |\n",
    "| 77  | classification   | 2652  | 4911          | 4910       |\n",
    "| 324 | keras            | 2397  | 9251          | 9250       |\n",
    "| 47  | nlp              | 1931  | 147           | 146        |\n",
    "| 128 | scikit-learn     | 1851  | 5896          | 5895       |\n",
    "| 321 | tensorflow       | 1842  | 9183          | 9182       |\n",
    "| 72  | time-series      | 1391  | 8904          | 8903       |\n",
    "\n",
    "\n",
    "However, it doesn't let us know if the interest in the subject is recent or not. Therefore, we decided to focus on the `Posts` table.\n",
    "\n",
    "\n",
    "## Getting the Data\n",
    "\n",
    "The `Posts` table has a lot of columns. We'll be focusing our attention on those that seem relevant towards our goal:\n",
    "\n",
    "- **`Id`:** An identification number for the post.\n",
    "- **`PostTypeId`:** An identification number for the type of post.\n",
    "\n",
    "|        | PostTypes           |\n",
    "|--------|---------------------|\n",
    "| **Id** | **Name**            |\n",
    "| 1      | Question            |\n",
    "| 2      | Answer              |\n",
    "| 3      | Wiki                |\n",
    "| 4      | TagWikiExcerpt      |\n",
    "| 5      | TagWiki             |\n",
    "| 6      | ModeratorNomination |\n",
    "| 7      | WikiPlaceholder     |\n",
    "| 8      | PrivilegeWiki       |\n",
    "\n",
    "- **`CreationDate`:** The date and time of creation of the post.\n",
    "- **`Score`:** The post's score.\n",
    "- **`ViewCount`:** How many times the post was viewed.\n",
    "- **`Tags`**: What tags were used.\n",
    "- **`AnswerCount`:** How many answers the question got (only applicable to question posts).\n",
    "- **`FavoriteCount`:** How many times the question was favoured (only applicable to question posts).\n",
    "\n",
    "\n",
    "There are eight different types of posts, but we'll just focus on the questions, limiting our analysis to the posts of 2019.\n",
    "\n",
    "To get the relevant data, we run the following query.\n",
    "\n",
    "~~~\n",
    "SELECT Id, PostTypeId, CreationDate, Score, ViewCount, \n",
    "       Tags, AnswerCount, FavoriteCount\n",
    "  FROM Posts\n",
    " WHERE PostTypeId = 1 \n",
    "   AND YEAR(CreationDate) = 2019;\n",
    "~~~   \n",
    "\n",
    "That's how the first few rows look like:\n",
    "\n",
    "<style type=\"text/css\">\n",
    ".tg  {border-collapse:collapse;border-spacing:0;}\n",
    ".tg td{border-color:black;border-style:solid;border-width:1px;font-family:Arial, sans-serif;font-size:14px;\n",
    "  overflow:hidden;padding:10px 5px;word-break:normal;}\n",
    ".tg th{border-color:black;border-style:solid;border-width:1px;font-family:Arial, sans-serif;font-size:14px;\n",
    "  font-weight:normal;overflow:hidden;padding:10px 5px;word-break:normal;}\n",
    ".tg .tg-1wig{font-weight:bold;text-align:left;vertical-align:top}\n",
    ".tg .tg-j6zm{font-weight:bold;text-align:left;vertical-align:bottom}\n",
    ".tg .tg-7zrl{text-align:left;vertical-align:bottom}\n",
    "</style>\n",
    "<table class=\"tg\">\n",
    "<thead>\n",
    "  <tr>\n",
    "    <th class=\"tg-1wig\">Id</th>\n",
    "    <th class=\"tg-j6zm\">PostTypeId</th>\n",
    "    <th class=\"tg-j6zm\">CreationDate</th>\n",
    "    <th class=\"tg-j6zm\">Score</th>\n",
    "    <th class=\"tg-j6zm\">ViewCount</th>\n",
    "    <th class=\"tg-j6zm\">Tags</th>\n",
    "    <th class=\"tg-j6zm\">AnswerCount</th>\n",
    "    <th class=\"tg-j6zm\">FavoriteCount</th>\n",
    "  </tr>\n",
    "</thead>\n",
    "<tbody>\n",
    "  <tr>\n",
    "    <td class=\"tg-7zrl\">49683</td>\n",
    "    <td class=\"tg-7zrl\">1</td>\n",
    "    <td class=\"tg-7zrl\">21/04/2019 16:15</td>\n",
    "    <td class=\"tg-7zrl\">3</td>\n",
    "    <td class=\"tg-7zrl\">228</td>\n",
    "    <td class=\"tg-7zrl\">&lt;machine-learning&gt;&lt;scikit-learn&gt;&lt;sampling&gt;</td>\n",
    "    <td class=\"tg-7zrl\">2</td>\n",
    "    <td class=\"tg-7zrl\"></td>\n",
    "  </tr>\n",
    "  <tr>\n",
    "    <td class=\"tg-7zrl\">49686</td>\n",
    "    <td class=\"tg-7zrl\">1</td>\n",
    "    <td class=\"tg-7zrl\">21/04/2019 16:54</td>\n",
    "    <td class=\"tg-7zrl\">0</td>\n",
    "    <td class=\"tg-7zrl\">199</td>\n",
    "    <td class=\"tg-7zrl\">&lt;dataset&gt;&lt;pandas&gt;</td>\n",
    "    <td class=\"tg-7zrl\">1</td>\n",
    "    <td class=\"tg-7zrl\"></td>\n",
    "  </tr>\n",
    "  <tr>\n",
    "    <td class=\"tg-7zrl\">49688</td>\n",
    "    <td class=\"tg-7zrl\">1</td>\n",
    "    <td class=\"tg-7zrl\">21/04/2019 18:05</td>\n",
    "    <td class=\"tg-7zrl\">1</td>\n",
    "    <td class=\"tg-7zrl\">277</td>\n",
    "    <td class=\"tg-7zrl\">&lt;machine-learning&gt;&lt;python&gt;&lt;time-series&gt;&lt;regression&gt;&lt;forecasting&gt;</td>\n",
    "    <td class=\"tg-7zrl\">0</td>\n",
    "    <td class=\"tg-7zrl\"></td>\n",
    "  </tr>\n",
    "  <tr>\n",
    "    <td class=\"tg-7zrl\">49693</td>\n",
    "    <td class=\"tg-7zrl\">1</td>\n",
    "    <td class=\"tg-7zrl\">21/04/2019 20:06</td>\n",
    "    <td class=\"tg-7zrl\">0</td>\n",
    "    <td class=\"tg-7zrl\">169</td>\n",
    "    <td class=\"tg-7zrl\">&lt;r&gt;&lt;time-series&gt;&lt;data-analysis&gt;</td>\n",
    "    <td class=\"tg-7zrl\">2</td>\n",
    "    <td class=\"tg-7zrl\">1</td>\n",
    "  </tr>\n",
    "  <tr>\n",
    "    <td class=\"tg-7zrl\">49697</td>\n",
    "    <td class=\"tg-7zrl\">1</td>\n",
    "    <td class=\"tg-7zrl\">21/04/2019 22:44</td>\n",
    "    <td class=\"tg-7zrl\">0</td>\n",
    "    <td class=\"tg-7zrl\">257</td>\n",
    "    <td class=\"tg-7zrl\">&lt;python&gt;&lt;random-forest&gt;&lt;feature-extraction&gt;</td>\n",
    "    <td class=\"tg-7zrl\">1</td>\n",
    "    <td class=\"tg-7zrl\"></td>\n",
    "  </tr>\n",
    "</tbody>\n",
    "</table>\n",
    "\n",
    "\n",
    "## Exploring the Data\n",
    "\n",
    "Looking at each row, we see that the `FavouriteCount` column has missing values. Let's explore the data."
   ]
  },
  {
   "cell_type": "code",
   "execution_count": 1,
   "metadata": {
    "collapsed": true
   },
   "outputs": [],
   "source": [
    "# Import everything that we'll use\n",
    "\n",
    "import pandas as pd\n",
    "import matplotlib.pyplot as plt\n",
    "import seaborn as sns\n",
    "\n",
    "%matplotlib inline"
   ]
  },
  {
   "cell_type": "code",
   "execution_count": 2,
   "metadata": {},
   "outputs": [
    {
     "name": "stdout",
     "output_type": "stream",
     "text": [
      "<class 'pandas.core.frame.DataFrame'>\n",
      "RangeIndex: 8839 entries, 0 to 8838\n",
      "Data columns (total 7 columns):\n",
      "Id               8839 non-null int64\n",
      "CreationDate     8839 non-null datetime64[ns]\n",
      "Score            8839 non-null int64\n",
      "ViewCount        8839 non-null int64\n",
      "Tags             8839 non-null object\n",
      "AnswerCount      8839 non-null int64\n",
      "FavoriteCount    1407 non-null float64\n",
      "dtypes: datetime64[ns](1), float64(1), int64(4), object(1)\n",
      "memory usage: 483.5+ KB\n"
     ]
    }
   ],
   "source": [
    "# Read in and explore the data\n",
    "questions = pd.read_csv('2019_questions.csv', parse_dates=['CreationDate'])\n",
    "questions.info()"
   ]
  },
  {
   "cell_type": "markdown",
   "metadata": {},
   "source": [
    "We see that only `FavoriteCount` has missing values. A missing value in this column possibly means the question is not bookmarked in any users' favourite list, so we can replace the missing values with zero.\n",
    "\n",
    "The data types seem appropriate for almost every column. After we fill in the missing values in `FavoriteCount`, we will convert them to integer numbers.\n",
    "\n",
    "Since the object data type can contain multiple different types, let's check what types the objects in the column `Tags` are."
   ]
  },
  {
   "cell_type": "code",
   "execution_count": 3,
   "metadata": {},
   "outputs": [
    {
     "data": {
      "text/plain": [
       "array([<class 'str'>], dtype=object)"
      ]
     },
     "execution_count": 3,
     "metadata": {},
     "output_type": "execute_result"
    }
   ],
   "source": [
    "questions[\"Tags\"].apply(lambda tag: type(tag)).unique()"
   ]
  },
  {
   "cell_type": "markdown",
   "metadata": {},
   "source": [
    "We see that every value in this column is a string. However, we will transform these values into a list of strings to be more suitable to use typical string methods.\n",
    "\n",
    "## Cleaning the Data"
   ]
  },
  {
   "cell_type": "code",
   "execution_count": 4,
   "metadata": {},
   "outputs": [
    {
     "data": {
      "text/plain": [
       "Id                        int64\n",
       "CreationDate     datetime64[ns]\n",
       "Score                     int64\n",
       "ViewCount                 int64\n",
       "Tags                     object\n",
       "AnswerCount               int64\n",
       "FavoriteCount             int64\n",
       "dtype: object"
      ]
     },
     "execution_count": 4,
     "metadata": {},
     "output_type": "execute_result"
    }
   ],
   "source": [
    "# Fill in missing values in FavoriteCount and convert them to integer type\n",
    "questions['FavoriteCount'].fillna(0, inplace=True)\n",
    "questions['FavoriteCount'] = questions['FavoriteCount'].astype(int)\n",
    "questions.dtypes"
   ]
  },
  {
   "cell_type": "code",
   "execution_count": 5,
   "metadata": {},
   "outputs": [
    {
     "data": {
      "text/plain": [
       "746                                                 [cnn]\n",
       "389     [machine-learning, python, scikit-learn, class...\n",
       "1477                       [machine-learning, regression]\n",
       "9       [machine-learning, python, deep-learning, kera...\n",
       "8293    [machine-learning, python, data-science-model,...\n",
       "Name: Tags, dtype: object"
      ]
     },
     "execution_count": 5,
     "metadata": {},
     "output_type": "execute_result"
    }
   ],
   "source": [
    "# Transform Tags column into a list of strings\n",
    "questions[\"Tags\"] = questions[\"Tags\"].str.replace(\"^<|>$\", \"\").str.split('><')\n",
    "questions['Tags'].sample(5)"
   ]
  },
  {
   "cell_type": "markdown",
   "metadata": {},
   "source": [
    "## Most Used and Most Viewed\n",
    "\n",
    "We'll focus on determining the most popular tags, considering two different popularity proxies: for each, tag we'll count how many times the tag was used, and how many times a question with that tag was viewed.\n",
    "\n",
    "Let's start by counting how many times each tag was used."
   ]
  },
  {
   "cell_type": "code",
   "execution_count": 6,
   "metadata": {
    "collapsed": true
   },
   "outputs": [],
   "source": [
    "tag_count = {}\n",
    "for tags in questions['Tags']:\n",
    "    for tag in tags:\n",
    "        if tag in tag_count:\n",
    "            tag_count[tag] += 1\n",
    "        else:\n",
    "            tag_count[tag] = 1"
   ]
  },
  {
   "cell_type": "markdown",
   "metadata": {},
   "source": [
    "For better aesthetics, let's transform tag_count dictionary into a dataframe."
   ]
  },
  {
   "cell_type": "code",
   "execution_count": 7,
   "metadata": {},
   "outputs": [
    {
     "data": {
      "text/html": [
       "<div>\n",
       "<style scoped>\n",
       "    .dataframe tbody tr th:only-of-type {\n",
       "        vertical-align: middle;\n",
       "    }\n",
       "\n",
       "    .dataframe tbody tr th {\n",
       "        vertical-align: top;\n",
       "    }\n",
       "\n",
       "    .dataframe thead th {\n",
       "        text-align: right;\n",
       "    }\n",
       "</style>\n",
       "<table border=\"1\" class=\"dataframe\">\n",
       "  <thead>\n",
       "    <tr style=\"text-align: right;\">\n",
       "      <th></th>\n",
       "      <th>Count</th>\n",
       "    </tr>\n",
       "  </thead>\n",
       "  <tbody>\n",
       "    <tr>\n",
       "      <th>q-learning</th>\n",
       "      <td>37</td>\n",
       "    </tr>\n",
       "    <tr>\n",
       "      <th>labels</th>\n",
       "      <td>28</td>\n",
       "    </tr>\n",
       "    <tr>\n",
       "      <th>image</th>\n",
       "      <td>32</td>\n",
       "    </tr>\n",
       "    <tr>\n",
       "      <th>seaborn</th>\n",
       "      <td>38</td>\n",
       "    </tr>\n",
       "    <tr>\n",
       "      <th>prediction</th>\n",
       "      <td>128</td>\n",
       "    </tr>\n",
       "    <tr>\n",
       "      <th>beginner</th>\n",
       "      <td>27</td>\n",
       "    </tr>\n",
       "    <tr>\n",
       "      <th>gan</th>\n",
       "      <td>85</td>\n",
       "    </tr>\n",
       "    <tr>\n",
       "      <th>tokenization</th>\n",
       "      <td>6</td>\n",
       "    </tr>\n",
       "    <tr>\n",
       "      <th>time</th>\n",
       "      <td>5</td>\n",
       "    </tr>\n",
       "    <tr>\n",
       "      <th>hierarchical-data-format</th>\n",
       "      <td>7</td>\n",
       "    </tr>\n",
       "  </tbody>\n",
       "</table>\n",
       "</div>"
      ],
      "text/plain": [
       "                          Count\n",
       "q-learning                   37\n",
       "labels                       28\n",
       "image                        32\n",
       "seaborn                      38\n",
       "prediction                  128\n",
       "beginner                     27\n",
       "gan                          85\n",
       "tokenization                  6\n",
       "time                          5\n",
       "hierarchical-data-format      7"
      ]
     },
     "execution_count": 7,
     "metadata": {},
     "output_type": "execute_result"
    }
   ],
   "source": [
    "tag_count = pd.DataFrame.from_dict(data=tag_count, orient='index')\n",
    "tag_count.rename(columns={0: 'Count'}, inplace=True)\n",
    "tag_count.head(10)"
   ]
  },
  {
   "cell_type": "markdown",
   "metadata": {},
   "source": [
    "Let's now sort this dataframe by `Count` and visualise the top 20 results."
   ]
  },
  {
   "cell_type": "code",
   "execution_count": 8,
   "metadata": {},
   "outputs": [
    {
     "data": {
      "text/html": [
       "<div>\n",
       "<style scoped>\n",
       "    .dataframe tbody tr th:only-of-type {\n",
       "        vertical-align: middle;\n",
       "    }\n",
       "\n",
       "    .dataframe tbody tr th {\n",
       "        vertical-align: top;\n",
       "    }\n",
       "\n",
       "    .dataframe thead th {\n",
       "        text-align: right;\n",
       "    }\n",
       "</style>\n",
       "<table border=\"1\" class=\"dataframe\">\n",
       "  <thead>\n",
       "    <tr style=\"text-align: right;\">\n",
       "      <th></th>\n",
       "      <th>Count</th>\n",
       "    </tr>\n",
       "  </thead>\n",
       "  <tbody>\n",
       "    <tr>\n",
       "      <th>machine-learning-model</th>\n",
       "      <td>224</td>\n",
       "    </tr>\n",
       "    <tr>\n",
       "      <th>statistics</th>\n",
       "      <td>234</td>\n",
       "    </tr>\n",
       "    <tr>\n",
       "      <th>clustering</th>\n",
       "      <td>257</td>\n",
       "    </tr>\n",
       "    <tr>\n",
       "      <th>predictive-modeling</th>\n",
       "      <td>265</td>\n",
       "    </tr>\n",
       "    <tr>\n",
       "      <th>r</th>\n",
       "      <td>268</td>\n",
       "    </tr>\n",
       "    <tr>\n",
       "      <th>dataset</th>\n",
       "      <td>340</td>\n",
       "    </tr>\n",
       "    <tr>\n",
       "      <th>regression</th>\n",
       "      <td>347</td>\n",
       "    </tr>\n",
       "    <tr>\n",
       "      <th>pandas</th>\n",
       "      <td>354</td>\n",
       "    </tr>\n",
       "    <tr>\n",
       "      <th>lstm</th>\n",
       "      <td>402</td>\n",
       "    </tr>\n",
       "    <tr>\n",
       "      <th>time-series</th>\n",
       "      <td>466</td>\n",
       "    </tr>\n",
       "    <tr>\n",
       "      <th>cnn</th>\n",
       "      <td>489</td>\n",
       "    </tr>\n",
       "    <tr>\n",
       "      <th>nlp</th>\n",
       "      <td>493</td>\n",
       "    </tr>\n",
       "    <tr>\n",
       "      <th>scikit-learn</th>\n",
       "      <td>540</td>\n",
       "    </tr>\n",
       "    <tr>\n",
       "      <th>tensorflow</th>\n",
       "      <td>584</td>\n",
       "    </tr>\n",
       "    <tr>\n",
       "      <th>classification</th>\n",
       "      <td>685</td>\n",
       "    </tr>\n",
       "    <tr>\n",
       "      <th>keras</th>\n",
       "      <td>935</td>\n",
       "    </tr>\n",
       "    <tr>\n",
       "      <th>neural-network</th>\n",
       "      <td>1055</td>\n",
       "    </tr>\n",
       "    <tr>\n",
       "      <th>deep-learning</th>\n",
       "      <td>1220</td>\n",
       "    </tr>\n",
       "    <tr>\n",
       "      <th>python</th>\n",
       "      <td>1814</td>\n",
       "    </tr>\n",
       "    <tr>\n",
       "      <th>machine-learning</th>\n",
       "      <td>2693</td>\n",
       "    </tr>\n",
       "  </tbody>\n",
       "</table>\n",
       "</div>"
      ],
      "text/plain": [
       "                        Count\n",
       "machine-learning-model    224\n",
       "statistics                234\n",
       "clustering                257\n",
       "predictive-modeling       265\n",
       "r                         268\n",
       "dataset                   340\n",
       "regression                347\n",
       "pandas                    354\n",
       "lstm                      402\n",
       "time-series               466\n",
       "cnn                       489\n",
       "nlp                       493\n",
       "scikit-learn              540\n",
       "tensorflow                584\n",
       "classification            685\n",
       "keras                     935\n",
       "neural-network           1055\n",
       "deep-learning            1220\n",
       "python                   1814\n",
       "machine-learning         2693"
      ]
     },
     "execution_count": 8,
     "metadata": {},
     "output_type": "execute_result"
    }
   ],
   "source": [
    "most_used = tag_count.sort_values(by='Count').tail(20)\n",
    "most_used"
   ]
  },
  {
   "cell_type": "markdown",
   "metadata": {},
   "source": [
    "The threshold of 20 is somewhat arbitrary and we can experiment with others, however, the popularity of the tags rapidly declines, so looking at these tags should be enough to help us with our goal. Let's visualise these data."
   ]
  },
  {
   "cell_type": "code",
   "execution_count": 9,
   "metadata": {},
   "outputs": [
    {
     "data": {
      "text/plain": [
       "<matplotlib.axes._subplots.AxesSubplot at 0x7f054f9c5400>"
      ]
     },
     "execution_count": 9,
     "metadata": {},
     "output_type": "execute_result"
    },
    {
     "data": {
      "image/png": "[encoded data removed]",
      "text/plain": [
       "<matplotlib.figure.Figure at 0x7f054fcf8cc0>"
      ]
     },
     "metadata": {},
     "output_type": "display_data"
    }
   ],
   "source": [
    "most_used.plot(kind='barh', figsize=(16, 8))"
   ]
  },
  {
   "cell_type": "markdown",
   "metadata": {},
   "source": [
    "Some tags are quite vague and are unlikely to be useful; e.g.: `python`, `dataset`, `r`. Before we investigate the tags a little deeper, let's repeat the same process for views."
   ]
  },
  {
   "cell_type": "code",
   "execution_count": 10,
   "metadata": {},
   "outputs": [
    {
     "data": {
      "text/plain": [
       "<matplotlib.axes._subplots.AxesSubplot at 0x7f054eddf128>"
      ]
     },
     "execution_count": 10,
     "metadata": {},
     "output_type": "execute_result"
    },
    {
     "data": {
      "image/png": "[encoded data removed]",
      "text/plain": [
       "<matplotlib.figure.Figure at 0x7f054f9fe160>"
      ]
     },
     "metadata": {},
     "output_type": "display_data"
    }
   ],
   "source": [
    "tag_view_count = {}\n",
    "\n",
    "for index, row in questions.iterrows():\n",
    "    for tag in row['Tags']:\n",
    "        if tag in tag_view_count:\n",
    "            tag_view_count[tag] += row['ViewCount']\n",
    "        else:\n",
    "            tag_view_count[tag] = row['ViewCount']  \n",
    "            \n",
    "\n",
    "# Transform tag_view_count dictionary into a dataframe\n",
    "tag_view_count = pd.DataFrame.from_dict(data=tag_view_count, orient='index')\n",
    "tag_view_count.rename(columns={0: 'ViewCount'}, inplace=True)\n",
    "\n",
    "# Sort this dataframe by ViewCount and visualize the top 20 results\n",
    "most_viewed = tag_view_count.sort_values(by='ViewCount').tail(20)\n",
    "\n",
    "# Visualize the data\n",
    "most_viewed.plot(kind='barh', figsize=(16, 8))"
   ]
  },
  {
   "cell_type": "markdown",
   "metadata": {},
   "source": [
    "Let's see them side by side."
   ]
  },
  {
   "cell_type": "code",
   "execution_count": 11,
   "metadata": {},
   "outputs": [
    {
     "data": {
      "text/plain": [
       "array([<matplotlib.axes._subplots.AxesSubplot object at 0x7f054f53bd30>],\n",
       "      dtype=object)"
      ]
     },
     "execution_count": 11,
     "metadata": {},
     "output_type": "execute_result"
    },
    {
     "data": {
      "image/png": "[encoded data removed]",
      "text/plain": [
       "<matplotlib.figure.Figure at 0x7f054ed3b160>"
      ]
     },
     "metadata": {},
     "output_type": "display_data"
    }
   ],
   "source": [
    "fig, axs = plt.subplots(nrows=1, ncols=2, figsize=(24, 10))\n",
    "most_used.plot(kind='barh', ax=axs[0], subplots=True)\n",
    "most_viewed.plot(kind='barh', ax=axs[1], subplots=True)"
   ]
  },
  {
   "cell_type": "markdown",
   "metadata": {},
   "source": [
    "## Enter Domain Knowledge\n",
    "\n",
    "From the top 10 tags of each proxy, here's a list of the tags in common:\n",
    "- `python`\n",
    "- `machine-learning` \n",
    "- `deep-learning` \n",
    "- `neural-network` \n",
    "- `keras`\n",
    "- `tensorflow`\n",
    "- `classification` \n",
    "- `scikit-learn`\n",
    "\n",
    "Someone with enough domain knowledge could tell most of the top tags are all closely related to one central machine learning topic: *deep learning*.\n",
    "\n",
    "\n",
    "## Just a fad?\n",
    "\n",
    "Before we officially make our recommendation, let's solidify our findings with additional proof. More specifically, one thing that comes to mind is \"Is deep learning just a fad?\", \"Could interest in deep learning be slowing down?\".\n",
    "\n",
    "The file `all_questions.csv` holds the result of the query below — this query fetches all of the questions ever asked on DSSE, their dates and tags.\n",
    "\n",
    "~~~\n",
    "SELECT Id, CreationDate, Tags\n",
    "  FROM posts\n",
    " WHERE PostTypeId = 1;\n",
    "~~~"
   ]
  },
  {
   "cell_type": "code",
   "execution_count": 12,
   "metadata": {
    "collapsed": true
   },
   "outputs": [],
   "source": [
    "# Read in the file into a dataframe, parsing the dates at read-time\n",
    "all_q = pd.read_csv('all_questions.csv', parse_dates=['CreationDate'])"
   ]
  },
  {
   "cell_type": "markdown",
   "metadata": {},
   "source": [
    "We'll use the same technique as before to clean the tags column."
   ]
  },
  {
   "cell_type": "code",
   "execution_count": 13,
   "metadata": {
    "collapsed": true
   },
   "outputs": [],
   "source": [
    "all_q['Tags'] = all_q['Tags'].str.replace('^<|>$', '').str.split('><')"
   ]
  },
  {
   "cell_type": "markdown",
   "metadata": {},
   "source": [
    "Before deciding which questions should be classified as being deep learning questions, we should decide what tags are deep learning tags.\n",
    "\n",
    "The definition of what constitutes a deep learning tag we'll use is: a tag that belongs to the list [`'lstm', 'cnn', 'scikit-learn', 'tensorflow', 'keras', 'neural-network', 'deep-learning'`].\n",
    "\n",
    "We'll now create a function that assigns `1` to deep learning questions and `0` otherwise; and we use it."
   ]
  },
  {
   "cell_type": "code",
   "execution_count": 14,
   "metadata": {
    "collapsed": true
   },
   "outputs": [],
   "source": [
    "def class_deep_learning(tags):\n",
    "    for tag in tags:\n",
    "        if tag in ['lstm', 'cnn', 'scikit-learn', 'tensorflow', 'keras', 'neural-network', 'deep-learning']:\n",
    "            return 1\n",
    "    return 0"
   ]
  },
  {
   "cell_type": "code",
   "execution_count": 15,
   "metadata": {
    "collapsed": true
   },
   "outputs": [],
   "source": [
    "all_q['DeepLearning'] = all_q['Tags'].apply(class_deep_learning)"
   ]
  },
  {
   "cell_type": "code",
   "execution_count": 16,
   "metadata": {},
   "outputs": [
    {
     "data": {
      "text/html": [
       "<div>\n",
       "<style scoped>\n",
       "    .dataframe tbody tr th:only-of-type {\n",
       "        vertical-align: middle;\n",
       "    }\n",
       "\n",
       "    .dataframe tbody tr th {\n",
       "        vertical-align: top;\n",
       "    }\n",
       "\n",
       "    .dataframe thead th {\n",
       "        text-align: right;\n",
       "    }\n",
       "</style>\n",
       "<table border=\"1\" class=\"dataframe\">\n",
       "  <thead>\n",
       "    <tr style=\"text-align: right;\">\n",
       "      <th></th>\n",
       "      <th>Id</th>\n",
       "      <th>CreationDate</th>\n",
       "      <th>Tags</th>\n",
       "      <th>DeepLearning</th>\n",
       "    </tr>\n",
       "  </thead>\n",
       "  <tbody>\n",
       "    <tr>\n",
       "      <th>8180</th>\n",
       "      <td>18572</td>\n",
       "      <td>2017-04-25 04:19:37</td>\n",
       "      <td>[machine-learning, distribution]</td>\n",
       "      <td>0</td>\n",
       "    </tr>\n",
       "    <tr>\n",
       "      <th>5378</th>\n",
       "      <td>17193</td>\n",
       "      <td>2017-02-26 15:05:30</td>\n",
       "      <td>[neural-network, tensorflow, regularization, d...</td>\n",
       "      <td>1</td>\n",
       "    </tr>\n",
       "    <tr>\n",
       "      <th>8428</th>\n",
       "      <td>41133</td>\n",
       "      <td>2018-11-12 23:38:39</td>\n",
       "      <td>[machine-learning, neural-network, svm, backpr...</td>\n",
       "      <td>1</td>\n",
       "    </tr>\n",
       "    <tr>\n",
       "      <th>21537</th>\n",
       "      <td>36872</td>\n",
       "      <td>2018-08-13 12:52:30</td>\n",
       "      <td>[reinforcement-learning]</td>\n",
       "      <td>0</td>\n",
       "    </tr>\n",
       "    <tr>\n",
       "      <th>4926</th>\n",
       "      <td>39181</td>\n",
       "      <td>2018-10-04 10:55:40</td>\n",
       "      <td>[data-mining, feature-extraction]</td>\n",
       "      <td>0</td>\n",
       "    </tr>\n",
       "  </tbody>\n",
       "</table>\n",
       "</div>"
      ],
      "text/plain": [
       "          Id        CreationDate  \\\n",
       "8180   18572 2017-04-25 04:19:37   \n",
       "5378   17193 2017-02-26 15:05:30   \n",
       "8428   41133 2018-11-12 23:38:39   \n",
       "21537  36872 2018-08-13 12:52:30   \n",
       "4926   39181 2018-10-04 10:55:40   \n",
       "\n",
       "                                                    Tags  DeepLearning  \n",
       "8180                    [machine-learning, distribution]             0  \n",
       "5378   [neural-network, tensorflow, regularization, d...             1  \n",
       "8428   [machine-learning, neural-network, svm, backpr...             1  \n",
       "21537                           [reinforcement-learning]             0  \n",
       "4926                   [data-mining, feature-extraction]             0  "
      ]
     },
     "execution_count": 16,
     "metadata": {},
     "output_type": "execute_result"
    }
   ],
   "source": [
    "all_q.sample(5)"
   ]
  },
  {
   "cell_type": "markdown",
   "metadata": {},
   "source": [
    "The data science landscape isn't so dynamic to merit daily, weekly or even monthly tracking. Let's track it quarterly.\n",
    "\n",
    "Since we don't have all the data for the first quarter of 2020, we'll get rid of those dates."
   ]
  },
  {
   "cell_type": "code",
   "execution_count": 17,
   "metadata": {},
   "outputs": [],
   "source": [
    "all_q = all_q[all_q['CreationDate'].dt.year < 2020]"
   ]
  },
  {
   "cell_type": "markdown",
   "metadata": {},
   "source": [
    "Let's create a column that identifies the quarter in which a question was asked."
   ]
  },
  {
   "cell_type": "code",
   "execution_count": 18,
   "metadata": {
    "collapsed": true
   },
   "outputs": [],
   "source": [
    "def fetch_quarter(datetime):\n",
    "    year = str(datetime.year)[-2:]\n",
    "    quarter = str(((datetime.month-1) // 3) + 1)\n",
    "    return \"{y}Q{q}\".format(y=year, q=quarter)\n",
    "\n",
    "all_q[\"Quarter\"] = all_q[\"CreationDate\"].apply(fetch_quarter)"
   ]
  },
  {
   "cell_type": "code",
   "execution_count": 19,
   "metadata": {},
   "outputs": [
    {
     "data": {
      "text/html": [
       "<div>\n",
       "<style scoped>\n",
       "    .dataframe tbody tr th:only-of-type {\n",
       "        vertical-align: middle;\n",
       "    }\n",
       "\n",
       "    .dataframe tbody tr th {\n",
       "        vertical-align: top;\n",
       "    }\n",
       "\n",
       "    .dataframe thead th {\n",
       "        text-align: right;\n",
       "    }\n",
       "</style>\n",
       "<table border=\"1\" class=\"dataframe\">\n",
       "  <thead>\n",
       "    <tr style=\"text-align: right;\">\n",
       "      <th></th>\n",
       "      <th>Id</th>\n",
       "      <th>CreationDate</th>\n",
       "      <th>Tags</th>\n",
       "      <th>DeepLearning</th>\n",
       "      <th>Quarter</th>\n",
       "    </tr>\n",
       "  </thead>\n",
       "  <tbody>\n",
       "    <tr>\n",
       "      <th>0</th>\n",
       "      <td>45416</td>\n",
       "      <td>2019-02-12 00:36:29</td>\n",
       "      <td>[python, keras, tensorflow, cnn, probability]</td>\n",
       "      <td>1</td>\n",
       "      <td>19Q1</td>\n",
       "    </tr>\n",
       "    <tr>\n",
       "      <th>1</th>\n",
       "      <td>45418</td>\n",
       "      <td>2019-02-12 00:50:39</td>\n",
       "      <td>[neural-network]</td>\n",
       "      <td>1</td>\n",
       "      <td>19Q1</td>\n",
       "    </tr>\n",
       "    <tr>\n",
       "      <th>2</th>\n",
       "      <td>45422</td>\n",
       "      <td>2019-02-12 04:40:51</td>\n",
       "      <td>[python, ibm-watson, chatbot]</td>\n",
       "      <td>0</td>\n",
       "      <td>19Q1</td>\n",
       "    </tr>\n",
       "    <tr>\n",
       "      <th>3</th>\n",
       "      <td>45426</td>\n",
       "      <td>2019-02-12 04:51:49</td>\n",
       "      <td>[keras]</td>\n",
       "      <td>1</td>\n",
       "      <td>19Q1</td>\n",
       "    </tr>\n",
       "    <tr>\n",
       "      <th>4</th>\n",
       "      <td>45427</td>\n",
       "      <td>2019-02-12 05:08:24</td>\n",
       "      <td>[r, predictive-modeling, machine-learning-mode...</td>\n",
       "      <td>0</td>\n",
       "      <td>19Q1</td>\n",
       "    </tr>\n",
       "  </tbody>\n",
       "</table>\n",
       "</div>"
      ],
      "text/plain": [
       "      Id        CreationDate  \\\n",
       "0  45416 2019-02-12 00:36:29   \n",
       "1  45418 2019-02-12 00:50:39   \n",
       "2  45422 2019-02-12 04:40:51   \n",
       "3  45426 2019-02-12 04:51:49   \n",
       "4  45427 2019-02-12 05:08:24   \n",
       "\n",
       "                                                Tags  DeepLearning Quarter  \n",
       "0      [python, keras, tensorflow, cnn, probability]             1    19Q1  \n",
       "1                                   [neural-network]             1    19Q1  \n",
       "2                      [python, ibm-watson, chatbot]             0    19Q1  \n",
       "3                                            [keras]             1    19Q1  \n",
       "4  [r, predictive-modeling, machine-learning-mode...             0    19Q1  "
      ]
     },
     "execution_count": 19,
     "metadata": {},
     "output_type": "execute_result"
    }
   ],
   "source": [
    "all_q.head()"
   ]
  },
  {
   "cell_type": "markdown",
   "metadata": {},
   "source": [
    "For the final part of our analysis, we'll group by quarter and:\n",
    "\n",
    "- Count the number of deep learning questions\n",
    "- Count the total number of questions\n",
    "- Calculate the ratio between the two numbers above"
   ]
  },
  {
   "cell_type": "code",
   "execution_count": 20,
   "metadata": {},
   "outputs": [
    {
     "data": {
      "text/html": [
       "<div>\n",
       "<style scoped>\n",
       "    .dataframe tbody tr th:only-of-type {\n",
       "        vertical-align: middle;\n",
       "    }\n",
       "\n",
       "    .dataframe tbody tr th {\n",
       "        vertical-align: top;\n",
       "    }\n",
       "\n",
       "    .dataframe thead th {\n",
       "        text-align: right;\n",
       "    }\n",
       "</style>\n",
       "<table border=\"1\" class=\"dataframe\">\n",
       "  <thead>\n",
       "    <tr style=\"text-align: right;\">\n",
       "      <th></th>\n",
       "      <th>Quarter</th>\n",
       "      <th>DeepLearningQuestions</th>\n",
       "      <th>TotalQuestions</th>\n",
       "      <th>DeepLearningRate</th>\n",
       "    </tr>\n",
       "  </thead>\n",
       "  <tbody>\n",
       "    <tr>\n",
       "      <th>14</th>\n",
       "      <td>17Q4</td>\n",
       "      <td>353</td>\n",
       "      <td>898</td>\n",
       "      <td>0.393096</td>\n",
       "    </tr>\n",
       "    <tr>\n",
       "      <th>9</th>\n",
       "      <td>16Q3</td>\n",
       "      <td>161</td>\n",
       "      <td>585</td>\n",
       "      <td>0.275214</td>\n",
       "    </tr>\n",
       "    <tr>\n",
       "      <th>5</th>\n",
       "      <td>15Q3</td>\n",
       "      <td>45</td>\n",
       "      <td>311</td>\n",
       "      <td>0.144695</td>\n",
       "    </tr>\n",
       "    <tr>\n",
       "      <th>6</th>\n",
       "      <td>15Q4</td>\n",
       "      <td>66</td>\n",
       "      <td>382</td>\n",
       "      <td>0.172775</td>\n",
       "    </tr>\n",
       "    <tr>\n",
       "      <th>13</th>\n",
       "      <td>17Q3</td>\n",
       "      <td>247</td>\n",
       "      <td>714</td>\n",
       "      <td>0.345938</td>\n",
       "    </tr>\n",
       "  </tbody>\n",
       "</table>\n",
       "</div>"
      ],
      "text/plain": [
       "   Quarter  DeepLearningQuestions  TotalQuestions  DeepLearningRate\n",
       "14    17Q4                    353             898          0.393096\n",
       "9     16Q3                    161             585          0.275214\n",
       "5     15Q3                     45             311          0.144695\n",
       "6     15Q4                     66             382          0.172775\n",
       "13    17Q3                    247             714          0.345938"
      ]
     },
     "execution_count": 20,
     "metadata": {},
     "output_type": "execute_result"
    }
   ],
   "source": [
    "quarterly = all_q.groupby('Quarter').agg({'DeepLearning':['sum', 'size']})\n",
    "quarterly.columns = ['DeepLearningQuestions', 'TotalQuestions']\n",
    "quarterly['DeepLearningRate'] = quarterly['DeepLearningQuestions'] / quarterly['TotalQuestions']\n",
    "\n",
    "# The following is done to help with visualizations later\n",
    "quarterly.reset_index(inplace=True)\n",
    "quarterly.sample(5)"
   ]
  },
  {
   "cell_type": "code",
   "execution_count": 21,
   "metadata": {},
   "outputs": [
    {
     "data": {
      "image/png": "[encoded data removed]",
      "text/plain": [
       "<matplotlib.figure.Figure at 0x7f054c297668>"
      ]
     },
     "metadata": {},
     "output_type": "display_data"
    }
   ],
   "source": [
    "# Adding the plots\n",
    "ax1 = quarterly.plot(x=\"Quarter\", y=\"DeepLearningRate\",\n",
    "                    kind=\"line\", linestyle=\"-\", marker=\"o\", color=\"orange\",\n",
    "                    figsize=(15,5)\n",
    "                    )\n",
    "\n",
    "ax2 = quarterly.plot(x=\"Quarter\", y=\"TotalQuestions\",\n",
    "                     kind=\"bar\", ax=ax1, secondary_y=True, alpha=0.7, rot=45)\n",
    "\n",
    "# Adding separate tick lables\n",
    "for idx, t in quarterly[\"TotalQuestions\"].iteritems():\n",
    "    ax2.text(idx, t, str(t), ha=\"center\", va=\"bottom\")\n",
    "\n",
    "# Setting up the legend\n",
    "ax1.get_legend().remove()\n",
    "\n",
    "handles1, labels1 = ax1.get_legend_handles_labels()\n",
    "handles2, labels2 = ax2.get_legend_handles_labels()\n",
    "ax1.legend(handles=handles1 + handles2,\n",
    "           labels=labels1 + labels2,\n",
    "           loc=\"upper left\", prop={\"size\": 12})\n",
    "\n",
    "# Hiding top and right spines\n",
    "for ax in (ax1, ax2):\n",
    "    for where in (\"top\", \"right\"):\n",
    "        ax.spines[where].set_visible(False)\n",
    "        ax.tick_params(right=False, labelright=False)"
   ]
  },
  {
   "cell_type": "markdown",
   "metadata": {},
   "source": [
    "It appears that deep learning questions have been a high-growth trend since the beginning of DSSE, and it looks like it has been stabilising.\n",
    "No evidence suggests the interest in deep learning has been decreasing, therefore, we will keep our previous idea of creating deep learning content."
   ]
  }
 ],
 "metadata": {
  "kernelspec": {
   "display_name": "Python 3",
   "language": "python",
   "name": "python3"
  },
  "language_info": {
   "codemirror_mode": {
    "name": "ipython",
    "version": 3
   },
   "file_extension": ".py",
   "mimetype": "text/x-python",
   "name": "python",
   "nbconvert_exporter": "python",
   "pygments_lexer": "ipython3",
   "version": "3.8.5"
  }
 },
 "nbformat": 4,
 "nbformat_minor": 2
}
