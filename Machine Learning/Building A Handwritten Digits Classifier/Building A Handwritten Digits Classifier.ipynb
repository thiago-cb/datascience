{
 "cells": [
  {
   "cell_type": "markdown",
   "metadata": {
    "collapsed": true
   },
   "source": [
    "# Building A Handwritten Digits Classifier\n",
    "\n",
    "## Introduction\n",
    "\n",
    "Deep neural networks have been used to reach state-of-the-art performance on **image classification** tasks in the last decade. For some image classification tasks, deep neural networks actually perform as well as or slightly better than the human benchmark.\n",
    "\n",
    "In this project, we'll explore the effectiveness of **deep**, **feedforward** **neural networks** at classifying images by:\n",
    "\n",
    "- exploring why image classification is a hard task.\n",
    "- observing the limitations of traditional machine learning models for image classification.\n",
    "- training, testing, and improving a few different deep neural networks for image classification.\n",
    "\n",
    "\n",
    "## Working With Image Data\n",
    "\n",
    "Scikit-learn contains a number of datasets pre-loaded with the library, within the namespace of **`sklearn.datasets`**. We will import **`load_digits()`** function that returns a copy of the [hand-written digits dataset](http://archive.ics.uci.edu/ml/datasets/Optical+Recognition+of+Handwritten+Digits) from UCI."
   ]
  },
  {
   "cell_type": "code",
   "execution_count": 1,
   "metadata": {
    "scrolled": true
   },
   "outputs": [],
   "source": [
    "# Import libraries\n",
    "from sklearn.datasets import load_digits\n",
    "import pandas as pd\n",
    "pd.options.display.max_columns = 150 # avoid displaying truncated columns\n",
    "import numpy as np\n",
    "import matplotlib.pyplot as plt\n",
    "%matplotlib inline\n",
    "\n",
    "# Load the dataset as a pandas DataFrame/Series\n",
    "# Return the dataset as a tuple (data,target) instead of a Bunch object\n",
    "digits = load_digits(return_X_y=True, as_frame=True)"
   ]
  },
  {
   "cell_type": "code",
   "execution_count": 2,
   "metadata": {},
   "outputs": [
    {
     "data": {
      "text/html": [
       "<div>\n",
       "<style scoped>\n",
       "    .dataframe tbody tr th:only-of-type {\n",
       "        vertical-align: middle;\n",
       "    }\n",
       "\n",
       "    .dataframe tbody tr th {\n",
       "        vertical-align: top;\n",
       "    }\n",
       "\n",
       "    .dataframe thead th {\n",
       "        text-align: right;\n",
       "    }\n",
       "</style>\n",
       "<table border=\"1\" class=\"dataframe\">\n",
       "  <thead>\n",
       "    <tr style=\"text-align: right;\">\n",
       "      <th></th>\n",
       "      <th>pixel_0_0</th>\n",
       "      <th>pixel_0_1</th>\n",
       "      <th>pixel_0_2</th>\n",
       "      <th>pixel_0_3</th>\n",
       "      <th>pixel_0_4</th>\n",
       "      <th>pixel_0_5</th>\n",
       "      <th>pixel_0_6</th>\n",
       "      <th>pixel_0_7</th>\n",
       "      <th>pixel_1_0</th>\n",
       "      <th>pixel_1_1</th>\n",
       "      <th>pixel_1_2</th>\n",
       "      <th>pixel_1_3</th>\n",
       "      <th>pixel_1_4</th>\n",
       "      <th>pixel_1_5</th>\n",
       "      <th>pixel_1_6</th>\n",
       "      <th>pixel_1_7</th>\n",
       "      <th>pixel_2_0</th>\n",
       "      <th>pixel_2_1</th>\n",
       "      <th>pixel_2_2</th>\n",
       "      <th>pixel_2_3</th>\n",
       "      <th>pixel_2_4</th>\n",
       "      <th>pixel_2_5</th>\n",
       "      <th>pixel_2_6</th>\n",
       "      <th>pixel_2_7</th>\n",
       "      <th>pixel_3_0</th>\n",
       "      <th>pixel_3_1</th>\n",
       "      <th>pixel_3_2</th>\n",
       "      <th>pixel_3_3</th>\n",
       "      <th>pixel_3_4</th>\n",
       "      <th>pixel_3_5</th>\n",
       "      <th>pixel_3_6</th>\n",
       "      <th>pixel_3_7</th>\n",
       "      <th>pixel_4_0</th>\n",
       "      <th>pixel_4_1</th>\n",
       "      <th>pixel_4_2</th>\n",
       "      <th>pixel_4_3</th>\n",
       "      <th>pixel_4_4</th>\n",
       "      <th>pixel_4_5</th>\n",
       "      <th>pixel_4_6</th>\n",
       "      <th>pixel_4_7</th>\n",
       "      <th>pixel_5_0</th>\n",
       "      <th>pixel_5_1</th>\n",
       "      <th>pixel_5_2</th>\n",
       "      <th>pixel_5_3</th>\n",
       "      <th>pixel_5_4</th>\n",
       "      <th>pixel_5_5</th>\n",
       "      <th>pixel_5_6</th>\n",
       "      <th>pixel_5_7</th>\n",
       "      <th>pixel_6_0</th>\n",
       "      <th>pixel_6_1</th>\n",
       "      <th>pixel_6_2</th>\n",
       "      <th>pixel_6_3</th>\n",
       "      <th>pixel_6_4</th>\n",
       "      <th>pixel_6_5</th>\n",
       "      <th>pixel_6_6</th>\n",
       "      <th>pixel_6_7</th>\n",
       "      <th>pixel_7_0</th>\n",
       "      <th>pixel_7_1</th>\n",
       "      <th>pixel_7_2</th>\n",
       "      <th>pixel_7_3</th>\n",
       "      <th>pixel_7_4</th>\n",
       "      <th>pixel_7_5</th>\n",
       "      <th>pixel_7_6</th>\n",
       "      <th>pixel_7_7</th>\n",
       "    </tr>\n",
       "  </thead>\n",
       "  <tbody>\n",
       "    <tr>\n",
       "      <th>0</th>\n",
       "      <td>0.0</td>\n",
       "      <td>0.0</td>\n",
       "      <td>5.0</td>\n",
       "      <td>13.0</td>\n",
       "      <td>9.0</td>\n",
       "      <td>1.0</td>\n",
       "      <td>0.0</td>\n",
       "      <td>0.0</td>\n",
       "      <td>0.0</td>\n",
       "      <td>0.0</td>\n",
       "      <td>13.0</td>\n",
       "      <td>15.0</td>\n",
       "      <td>10.0</td>\n",
       "      <td>15.0</td>\n",
       "      <td>5.0</td>\n",
       "      <td>0.0</td>\n",
       "      <td>0.0</td>\n",
       "      <td>3.0</td>\n",
       "      <td>15.0</td>\n",
       "      <td>2.0</td>\n",
       "      <td>0.0</td>\n",
       "      <td>11.0</td>\n",
       "      <td>8.0</td>\n",
       "      <td>0.0</td>\n",
       "      <td>0.0</td>\n",
       "      <td>4.0</td>\n",
       "      <td>12.0</td>\n",
       "      <td>0.0</td>\n",
       "      <td>0.0</td>\n",
       "      <td>8.0</td>\n",
       "      <td>8.0</td>\n",
       "      <td>0.0</td>\n",
       "      <td>0.0</td>\n",
       "      <td>5.0</td>\n",
       "      <td>8.0</td>\n",
       "      <td>0.0</td>\n",
       "      <td>0.0</td>\n",
       "      <td>9.0</td>\n",
       "      <td>8.0</td>\n",
       "      <td>0.0</td>\n",
       "      <td>0.0</td>\n",
       "      <td>4.0</td>\n",
       "      <td>11.0</td>\n",
       "      <td>0.0</td>\n",
       "      <td>1.0</td>\n",
       "      <td>12.0</td>\n",
       "      <td>7.0</td>\n",
       "      <td>0.0</td>\n",
       "      <td>0.0</td>\n",
       "      <td>2.0</td>\n",
       "      <td>14.0</td>\n",
       "      <td>5.0</td>\n",
       "      <td>10.0</td>\n",
       "      <td>12.0</td>\n",
       "      <td>0.0</td>\n",
       "      <td>0.0</td>\n",
       "      <td>0.0</td>\n",
       "      <td>0.0</td>\n",
       "      <td>6.0</td>\n",
       "      <td>13.0</td>\n",
       "      <td>10.0</td>\n",
       "      <td>0.0</td>\n",
       "      <td>0.0</td>\n",
       "      <td>0.0</td>\n",
       "    </tr>\n",
       "    <tr>\n",
       "      <th>1</th>\n",
       "      <td>0.0</td>\n",
       "      <td>0.0</td>\n",
       "      <td>0.0</td>\n",
       "      <td>12.0</td>\n",
       "      <td>13.0</td>\n",
       "      <td>5.0</td>\n",
       "      <td>0.0</td>\n",
       "      <td>0.0</td>\n",
       "      <td>0.0</td>\n",
       "      <td>0.0</td>\n",
       "      <td>0.0</td>\n",
       "      <td>11.0</td>\n",
       "      <td>16.0</td>\n",
       "      <td>9.0</td>\n",
       "      <td>0.0</td>\n",
       "      <td>0.0</td>\n",
       "      <td>0.0</td>\n",
       "      <td>0.0</td>\n",
       "      <td>3.0</td>\n",
       "      <td>15.0</td>\n",
       "      <td>16.0</td>\n",
       "      <td>6.0</td>\n",
       "      <td>0.0</td>\n",
       "      <td>0.0</td>\n",
       "      <td>0.0</td>\n",
       "      <td>7.0</td>\n",
       "      <td>15.0</td>\n",
       "      <td>16.0</td>\n",
       "      <td>16.0</td>\n",
       "      <td>2.0</td>\n",
       "      <td>0.0</td>\n",
       "      <td>0.0</td>\n",
       "      <td>0.0</td>\n",
       "      <td>0.0</td>\n",
       "      <td>1.0</td>\n",
       "      <td>16.0</td>\n",
       "      <td>16.0</td>\n",
       "      <td>3.0</td>\n",
       "      <td>0.0</td>\n",
       "      <td>0.0</td>\n",
       "      <td>0.0</td>\n",
       "      <td>0.0</td>\n",
       "      <td>1.0</td>\n",
       "      <td>16.0</td>\n",
       "      <td>16.0</td>\n",
       "      <td>6.0</td>\n",
       "      <td>0.0</td>\n",
       "      <td>0.0</td>\n",
       "      <td>0.0</td>\n",
       "      <td>0.0</td>\n",
       "      <td>1.0</td>\n",
       "      <td>16.0</td>\n",
       "      <td>16.0</td>\n",
       "      <td>6.0</td>\n",
       "      <td>0.0</td>\n",
       "      <td>0.0</td>\n",
       "      <td>0.0</td>\n",
       "      <td>0.0</td>\n",
       "      <td>0.0</td>\n",
       "      <td>11.0</td>\n",
       "      <td>16.0</td>\n",
       "      <td>10.0</td>\n",
       "      <td>0.0</td>\n",
       "      <td>0.0</td>\n",
       "    </tr>\n",
       "    <tr>\n",
       "      <th>2</th>\n",
       "      <td>0.0</td>\n",
       "      <td>0.0</td>\n",
       "      <td>0.0</td>\n",
       "      <td>4.0</td>\n",
       "      <td>15.0</td>\n",
       "      <td>12.0</td>\n",
       "      <td>0.0</td>\n",
       "      <td>0.0</td>\n",
       "      <td>0.0</td>\n",
       "      <td>0.0</td>\n",
       "      <td>3.0</td>\n",
       "      <td>16.0</td>\n",
       "      <td>15.0</td>\n",
       "      <td>14.0</td>\n",
       "      <td>0.0</td>\n",
       "      <td>0.0</td>\n",
       "      <td>0.0</td>\n",
       "      <td>0.0</td>\n",
       "      <td>8.0</td>\n",
       "      <td>13.0</td>\n",
       "      <td>8.0</td>\n",
       "      <td>16.0</td>\n",
       "      <td>0.0</td>\n",
       "      <td>0.0</td>\n",
       "      <td>0.0</td>\n",
       "      <td>0.0</td>\n",
       "      <td>1.0</td>\n",
       "      <td>6.0</td>\n",
       "      <td>15.0</td>\n",
       "      <td>11.0</td>\n",
       "      <td>0.0</td>\n",
       "      <td>0.0</td>\n",
       "      <td>0.0</td>\n",
       "      <td>1.0</td>\n",
       "      <td>8.0</td>\n",
       "      <td>13.0</td>\n",
       "      <td>15.0</td>\n",
       "      <td>1.0</td>\n",
       "      <td>0.0</td>\n",
       "      <td>0.0</td>\n",
       "      <td>0.0</td>\n",
       "      <td>9.0</td>\n",
       "      <td>16.0</td>\n",
       "      <td>16.0</td>\n",
       "      <td>5.0</td>\n",
       "      <td>0.0</td>\n",
       "      <td>0.0</td>\n",
       "      <td>0.0</td>\n",
       "      <td>0.0</td>\n",
       "      <td>3.0</td>\n",
       "      <td>13.0</td>\n",
       "      <td>16.0</td>\n",
       "      <td>16.0</td>\n",
       "      <td>11.0</td>\n",
       "      <td>5.0</td>\n",
       "      <td>0.0</td>\n",
       "      <td>0.0</td>\n",
       "      <td>0.0</td>\n",
       "      <td>0.0</td>\n",
       "      <td>3.0</td>\n",
       "      <td>11.0</td>\n",
       "      <td>16.0</td>\n",
       "      <td>9.0</td>\n",
       "      <td>0.0</td>\n",
       "    </tr>\n",
       "    <tr>\n",
       "      <th>3</th>\n",
       "      <td>0.0</td>\n",
       "      <td>0.0</td>\n",
       "      <td>7.0</td>\n",
       "      <td>15.0</td>\n",
       "      <td>13.0</td>\n",
       "      <td>1.0</td>\n",
       "      <td>0.0</td>\n",
       "      <td>0.0</td>\n",
       "      <td>0.0</td>\n",
       "      <td>8.0</td>\n",
       "      <td>13.0</td>\n",
       "      <td>6.0</td>\n",
       "      <td>15.0</td>\n",
       "      <td>4.0</td>\n",
       "      <td>0.0</td>\n",
       "      <td>0.0</td>\n",
       "      <td>0.0</td>\n",
       "      <td>2.0</td>\n",
       "      <td>1.0</td>\n",
       "      <td>13.0</td>\n",
       "      <td>13.0</td>\n",
       "      <td>0.0</td>\n",
       "      <td>0.0</td>\n",
       "      <td>0.0</td>\n",
       "      <td>0.0</td>\n",
       "      <td>0.0</td>\n",
       "      <td>2.0</td>\n",
       "      <td>15.0</td>\n",
       "      <td>11.0</td>\n",
       "      <td>1.0</td>\n",
       "      <td>0.0</td>\n",
       "      <td>0.0</td>\n",
       "      <td>0.0</td>\n",
       "      <td>0.0</td>\n",
       "      <td>0.0</td>\n",
       "      <td>1.0</td>\n",
       "      <td>12.0</td>\n",
       "      <td>12.0</td>\n",
       "      <td>1.0</td>\n",
       "      <td>0.0</td>\n",
       "      <td>0.0</td>\n",
       "      <td>0.0</td>\n",
       "      <td>0.0</td>\n",
       "      <td>0.0</td>\n",
       "      <td>1.0</td>\n",
       "      <td>10.0</td>\n",
       "      <td>8.0</td>\n",
       "      <td>0.0</td>\n",
       "      <td>0.0</td>\n",
       "      <td>0.0</td>\n",
       "      <td>8.0</td>\n",
       "      <td>4.0</td>\n",
       "      <td>5.0</td>\n",
       "      <td>14.0</td>\n",
       "      <td>9.0</td>\n",
       "      <td>0.0</td>\n",
       "      <td>0.0</td>\n",
       "      <td>0.0</td>\n",
       "      <td>7.0</td>\n",
       "      <td>13.0</td>\n",
       "      <td>13.0</td>\n",
       "      <td>9.0</td>\n",
       "      <td>0.0</td>\n",
       "      <td>0.0</td>\n",
       "    </tr>\n",
       "    <tr>\n",
       "      <th>4</th>\n",
       "      <td>0.0</td>\n",
       "      <td>0.0</td>\n",
       "      <td>0.0</td>\n",
       "      <td>1.0</td>\n",
       "      <td>11.0</td>\n",
       "      <td>0.0</td>\n",
       "      <td>0.0</td>\n",
       "      <td>0.0</td>\n",
       "      <td>0.0</td>\n",
       "      <td>0.0</td>\n",
       "      <td>0.0</td>\n",
       "      <td>7.0</td>\n",
       "      <td>8.0</td>\n",
       "      <td>0.0</td>\n",
       "      <td>0.0</td>\n",
       "      <td>0.0</td>\n",
       "      <td>0.0</td>\n",
       "      <td>0.0</td>\n",
       "      <td>1.0</td>\n",
       "      <td>13.0</td>\n",
       "      <td>6.0</td>\n",
       "      <td>2.0</td>\n",
       "      <td>2.0</td>\n",
       "      <td>0.0</td>\n",
       "      <td>0.0</td>\n",
       "      <td>0.0</td>\n",
       "      <td>7.0</td>\n",
       "      <td>15.0</td>\n",
       "      <td>0.0</td>\n",
       "      <td>9.0</td>\n",
       "      <td>8.0</td>\n",
       "      <td>0.0</td>\n",
       "      <td>0.0</td>\n",
       "      <td>5.0</td>\n",
       "      <td>16.0</td>\n",
       "      <td>10.0</td>\n",
       "      <td>0.0</td>\n",
       "      <td>16.0</td>\n",
       "      <td>6.0</td>\n",
       "      <td>0.0</td>\n",
       "      <td>0.0</td>\n",
       "      <td>4.0</td>\n",
       "      <td>15.0</td>\n",
       "      <td>16.0</td>\n",
       "      <td>13.0</td>\n",
       "      <td>16.0</td>\n",
       "      <td>1.0</td>\n",
       "      <td>0.0</td>\n",
       "      <td>0.0</td>\n",
       "      <td>0.0</td>\n",
       "      <td>0.0</td>\n",
       "      <td>3.0</td>\n",
       "      <td>15.0</td>\n",
       "      <td>10.0</td>\n",
       "      <td>0.0</td>\n",
       "      <td>0.0</td>\n",
       "      <td>0.0</td>\n",
       "      <td>0.0</td>\n",
       "      <td>0.0</td>\n",
       "      <td>2.0</td>\n",
       "      <td>16.0</td>\n",
       "      <td>4.0</td>\n",
       "      <td>0.0</td>\n",
       "      <td>0.0</td>\n",
       "    </tr>\n",
       "  </tbody>\n",
       "</table>\n",
       "</div>"
      ],
      "text/plain": [
       "   pixel_0_0  pixel_0_1  pixel_0_2  pixel_0_3  pixel_0_4  pixel_0_5  \\\n",
       "0        0.0        0.0        5.0       13.0        9.0        1.0   \n",
       "1        0.0        0.0        0.0       12.0       13.0        5.0   \n",
       "2        0.0        0.0        0.0        4.0       15.0       12.0   \n",
       "3        0.0        0.0        7.0       15.0       13.0        1.0   \n",
       "4        0.0        0.0        0.0        1.0       11.0        0.0   \n",
       "\n",
       "   pixel_0_6  pixel_0_7  pixel_1_0  pixel_1_1  pixel_1_2  pixel_1_3  \\\n",
       "0        0.0        0.0        0.0        0.0       13.0       15.0   \n",
       "1        0.0        0.0        0.0        0.0        0.0       11.0   \n",
       "2        0.0        0.0        0.0        0.0        3.0       16.0   \n",
       "3        0.0        0.0        0.0        8.0       13.0        6.0   \n",
       "4        0.0        0.0        0.0        0.0        0.0        7.0   \n",
       "\n",
       "   pixel_1_4  pixel_1_5  pixel_1_6  pixel_1_7  pixel_2_0  pixel_2_1  \\\n",
       "0       10.0       15.0        5.0        0.0        0.0        3.0   \n",
       "1       16.0        9.0        0.0        0.0        0.0        0.0   \n",
       "2       15.0       14.0        0.0        0.0        0.0        0.0   \n",
       "3       15.0        4.0        0.0        0.0        0.0        2.0   \n",
       "4        8.0        0.0        0.0        0.0        0.0        0.0   \n",
       "\n",
       "   pixel_2_2  pixel_2_3  pixel_2_4  pixel_2_5  pixel_2_6  pixel_2_7  \\\n",
       "0       15.0        2.0        0.0       11.0        8.0        0.0   \n",
       "1        3.0       15.0       16.0        6.0        0.0        0.0   \n",
       "2        8.0       13.0        8.0       16.0        0.0        0.0   \n",
       "3        1.0       13.0       13.0        0.0        0.0        0.0   \n",
       "4        1.0       13.0        6.0        2.0        2.0        0.0   \n",
       "\n",
       "   pixel_3_0  pixel_3_1  pixel_3_2  pixel_3_3  pixel_3_4  pixel_3_5  \\\n",
       "0        0.0        4.0       12.0        0.0        0.0        8.0   \n",
       "1        0.0        7.0       15.0       16.0       16.0        2.0   \n",
       "2        0.0        0.0        1.0        6.0       15.0       11.0   \n",
       "3        0.0        0.0        2.0       15.0       11.0        1.0   \n",
       "4        0.0        0.0        7.0       15.0        0.0        9.0   \n",
       "\n",
       "   pixel_3_6  pixel_3_7  pixel_4_0  pixel_4_1  pixel_4_2  pixel_4_3  \\\n",
       "0        8.0        0.0        0.0        5.0        8.0        0.0   \n",
       "1        0.0        0.0        0.0        0.0        1.0       16.0   \n",
       "2        0.0        0.0        0.0        1.0        8.0       13.0   \n",
       "3        0.0        0.0        0.0        0.0        0.0        1.0   \n",
       "4        8.0        0.0        0.0        5.0       16.0       10.0   \n",
       "\n",
       "   pixel_4_4  pixel_4_5  pixel_4_6  pixel_4_7  pixel_5_0  pixel_5_1  \\\n",
       "0        0.0        9.0        8.0        0.0        0.0        4.0   \n",
       "1       16.0        3.0        0.0        0.0        0.0        0.0   \n",
       "2       15.0        1.0        0.0        0.0        0.0        9.0   \n",
       "3       12.0       12.0        1.0        0.0        0.0        0.0   \n",
       "4        0.0       16.0        6.0        0.0        0.0        4.0   \n",
       "\n",
       "   pixel_5_2  pixel_5_3  pixel_5_4  pixel_5_5  pixel_5_6  pixel_5_7  \\\n",
       "0       11.0        0.0        1.0       12.0        7.0        0.0   \n",
       "1        1.0       16.0       16.0        6.0        0.0        0.0   \n",
       "2       16.0       16.0        5.0        0.0        0.0        0.0   \n",
       "3        0.0        0.0        1.0       10.0        8.0        0.0   \n",
       "4       15.0       16.0       13.0       16.0        1.0        0.0   \n",
       "\n",
       "   pixel_6_0  pixel_6_1  pixel_6_2  pixel_6_3  pixel_6_4  pixel_6_5  \\\n",
       "0        0.0        2.0       14.0        5.0       10.0       12.0   \n",
       "1        0.0        0.0        1.0       16.0       16.0        6.0   \n",
       "2        0.0        3.0       13.0       16.0       16.0       11.0   \n",
       "3        0.0        0.0        8.0        4.0        5.0       14.0   \n",
       "4        0.0        0.0        0.0        3.0       15.0       10.0   \n",
       "\n",
       "   pixel_6_6  pixel_6_7  pixel_7_0  pixel_7_1  pixel_7_2  pixel_7_3  \\\n",
       "0        0.0        0.0        0.0        0.0        6.0       13.0   \n",
       "1        0.0        0.0        0.0        0.0        0.0       11.0   \n",
       "2        5.0        0.0        0.0        0.0        0.0        3.0   \n",
       "3        9.0        0.0        0.0        0.0        7.0       13.0   \n",
       "4        0.0        0.0        0.0        0.0        0.0        2.0   \n",
       "\n",
       "   pixel_7_4  pixel_7_5  pixel_7_6  pixel_7_7  \n",
       "0       10.0        0.0        0.0        0.0  \n",
       "1       16.0       10.0        0.0        0.0  \n",
       "2       11.0       16.0        9.0        0.0  \n",
       "3       13.0        9.0        0.0        0.0  \n",
       "4       16.0        4.0        0.0        0.0  "
      ]
     },
     "execution_count": 2,
     "metadata": {},
     "output_type": "execute_result"
    }
   ],
   "source": [
    "# Select feature columns as a pandas DataFrame\n",
    "data = digits[0]\n",
    "\n",
    "# Visualise the first five rows\n",
    "data.head()"
   ]
  },
  {
   "cell_type": "code",
   "execution_count": 3,
   "metadata": {},
   "outputs": [
    {
     "data": {
      "text/plain": [
       "0    0\n",
       "1    1\n",
       "2    2\n",
       "3    3\n",
       "4    4\n",
       "Name: target, dtype: int64"
      ]
     },
     "execution_count": 3,
     "metadata": {},
     "output_type": "execute_result"
    }
   ],
   "source": [
    "# Select target column as a pandas Series\n",
    "labels = digits[1]\n",
    "\n",
    "# Visualise the first five rows\n",
    "labels.head()"
   ]
  },
  {
   "cell_type": "markdown",
   "metadata": {},
   "source": [
    "Because dataframes are a tabular representation of data, each image is represented as a row of pixel values. To visualise an image from the dataframe, we will reshape the pixel values back to its original dimensions (8 x 8 pixels) and plot them on a coordinate grid.\n",
    "\n",
    "To reshape the image, we will to convert the data to a numpy array and pass the result into that into the **`numpy.reshape()`** function, as in the following example."
   ]
  },
  {
   "cell_type": "code",
   "execution_count": 4,
   "metadata": {},
   "outputs": [
    {
     "data": {
      "image/png": "[encoded data removed]",
      "text/plain": [
       "<Figure size 600x400 with 1 Axes>"
      ]
     },
     "metadata": {},
     "output_type": "display_data"
    }
   ],
   "source": [
    "# Image reshaping example\n",
    "first_image = data.iloc[0]\n",
    "np_image = first_image.values\n",
    "np_image = np_image.reshape(8,8)\n",
    "\n",
    "# Plot the reshaped data\n",
    "plt.imshow(np_image, cmap='gray_r')\n",
    "plt.show()"
   ]
  },
  {
   "cell_type": "markdown",
   "metadata": {},
   "source": [
    "Now let's visualise some of the images in the dataset. We will generate a scatter plot grid, with 2 rows and 4 columns.\n",
    "- In the first row: \n",
    "  - Images corresponding to rows 0, 100, 200, and 300.\n",
    "- In the second row:\n",
    "  - Images corresponding to rows 1000, 1100, 1200, and 1300."
   ]
  },
  {
   "cell_type": "code",
   "execution_count": 5,
   "metadata": {},
   "outputs": [
    {
     "data": {
      "image/png": "[encoded data removed]",
      "text/plain": [
       "<Figure size 600x400 with 8 Axes>"
      ]
     },
     "metadata": {},
     "output_type": "display_data"
    }
   ],
   "source": [
    "fig, axs = plt.subplots(2, 4)\n",
    "\n",
    "axs[0, 0].imshow(data.iloc[0].values.reshape(8,8), cmap='gray_r')\n",
    "axs[0, 1].imshow(data.iloc[100].values.reshape(8,8), cmap='gray_r')\n",
    "axs[0, 2].imshow(data.iloc[200].values.reshape(8,8), cmap='gray_r')\n",
    "axs[0, 3].imshow(data.iloc[300].values.reshape(8,8), cmap='gray_r')\n",
    "\n",
    "axs[1, 0].imshow(data.iloc[1000].values.reshape(8,8), cmap='gray_r')\n",
    "axs[1, 1].imshow(data.iloc[1100].values.reshape(8,8), cmap='gray_r')\n",
    "axs[1, 2].imshow(data.iloc[1200].values.reshape(8,8), cmap='gray_r')\n",
    "axs[1, 3].imshow(data.iloc[1300].values.reshape(8,8), cmap='gray_r')\n",
    "\n",
    "plt.show()"
   ]
  },
  {
   "cell_type": "markdown",
   "metadata": {},
   "source": [
    "## K-Nearest Neighbors Algorithm\n",
    "\n",
    "While linear and logistic regression models make assumptions about the linearity between the features and the output labels, the k-nearest neighbors algorithm make no such assumption. This allows it to capture nonlinearity in the data.\n",
    "\n",
    "We will set up a pipeline for training and testing k-nearest neighbours using **`KNeighborsClassifier`** package. Cross-validation with 4-fold will also be applied."
   ]
  },
  {
   "cell_type": "code",
   "execution_count": 6,
   "metadata": {},
   "outputs": [
    {
     "data": {
      "text/plain": [
       "0.9888728037614452"
      ]
     },
     "execution_count": 6,
     "metadata": {},
     "output_type": "execute_result"
    }
   ],
   "source": [
    "from sklearn.neighbors import KNeighborsClassifier\n",
    "from sklearn.model_selection import KFold\n",
    "\n",
    "def train_knn(nneighbors, train_features, train_target):\n",
    "    knn = KNeighborsClassifier(n_neighbors = nneighbors)\n",
    "    knn.fit(train_features, train_target)\n",
    "    return knn\n",
    "\n",
    "def test(model, test_features, test_target):\n",
    "    predictions = model.predict(test_features)\n",
    "    train_test_df = pd.DataFrame()\n",
    "    train_test_df['true_label'] = test_target\n",
    "    train_test_df['predicted_label'] = predictions\n",
    "    overall_accuracy = sum(train_test_df[\"predicted_label\"] == train_test_df[\"true_label\"])/len(train_test_df)    \n",
    "    return overall_accuracy\n",
    "\n",
    "def cross_validate(k):\n",
    "    fold_accuracies = []\n",
    "    kf = KFold(n_splits = 4, random_state=2, shuffle=True)\n",
    "    for train_index, test_index in kf.split(data):\n",
    "        train_features, test_features = data.iloc[train_index], data.iloc[test_index]\n",
    "        train_target, test_target = labels.iloc[train_index], labels.iloc[test_index]\n",
    "        model = train_knn(k, train_features, train_target)\n",
    "        overall_accuracy = test(model, test_features, test_target)\n",
    "        fold_accuracies.append(overall_accuracy)\n",
    "    return fold_accuracies\n",
    "        \n",
    "knn_one_accuracies = cross_validate(1)\n",
    "np.mean(knn_one_accuracies)"
   ]
  },
  {
   "cell_type": "markdown",
   "metadata": {},
   "source": [
    "Let's visualize the resulting classification accuracies for different values of **`k`**."
   ]
  },
  {
   "cell_type": "code",
   "execution_count": 7,
   "metadata": {},
   "outputs": [
    {
     "data": {
      "image/png": "[encoded data removed]",
      "text/plain": [
       "<Figure size 800x400 with 1 Axes>"
      ]
     },
     "metadata": {},
     "output_type": "display_data"
    }
   ],
   "source": [
    "k_values = list(range(1,10))\n",
    "k_overall_accuracies = []\n",
    "\n",
    "for k in k_values:\n",
    "    k_accuracies = cross_validate(k)\n",
    "    k_mean_accuracy = np.mean(k_accuracies)\n",
    "    k_overall_accuracies.append(k_mean_accuracy)\n",
    "    \n",
    "plt.figure(figsize=(8,4))\n",
    "plt.plot(k_values, k_overall_accuracies)\n",
    "plt.title(\"Mean Accuracy vs. k\")\n",
    "plt.xlabel('k')\n",
    "plt.ylabel('Mean accuracy')\n",
    "plt.show()"
   ]
  },
  {
   "cell_type": "code",
   "execution_count": 8,
   "metadata": {},
   "outputs": [
    {
     "data": {
      "text/plain": [
       "[0.9888728037614452,\n",
       " 0.9821912892848305,\n",
       " 0.9872011878247959,\n",
       " 0.9833073496659243,\n",
       " 0.9849777282850779,\n",
       " 0.9827517941103686,\n",
       " 0.9844221727295223,\n",
       " 0.9805270972531551,\n",
       " 0.9827567433803515]"
      ]
     },
     "execution_count": 8,
     "metadata": {},
     "output_type": "execute_result"
    }
   ],
   "source": [
    "k_overall_accuracies"
   ]
  },
  {
   "cell_type": "markdown",
   "metadata": {},
   "source": [
    "The highest accuracies occurred when the number of nearest neighbors was an odd number. However, in general, as the value of **`k`** increased the mean accuracy decreased.\n",
    "\n",
    "There are a few downsides to using k-nearest neighbors:\n",
    "\n",
    " - high memory usage (for each new unseen observation, many comparisons need to be made to seen observations)\n",
    " - no model representation to debug and explore\n",
    "\n",
    "## Neural Network With One Hidden Layer\n",
    "\n",
    "Let's now try a neural network with a *single hidden layer* using *different numbers of neurons*. We will use the **`MLPClassifier`** package from scikit-learn."
   ]
  },
  {
   "cell_type": "code",
   "execution_count": 9,
   "metadata": {},
   "outputs": [],
   "source": [
    "from sklearn.neural_network import MLPClassifier\n",
    "\n",
    "def train_nn(neuron_arch, train_features, train_target):\n",
    "    mlp = MLPClassifier(hidden_layer_sizes=neuron_arch, max_iter=2000)\n",
    "    mlp.fit(train_features, train_target)\n",
    "    return mlp\n",
    "\n",
    "def test(model, test_features, test_target):\n",
    "    predictions = model.predict(test_features)\n",
    "    train_test_df = pd.DataFrame()\n",
    "    train_test_df['true_label'] = test_target\n",
    "    train_test_df['predicted_label'] = predictions\n",
    "    overall_accuracy = sum(train_test_df[\"predicted_label\"] == train_test_df[\"true_label\"])/len(train_test_df)    \n",
    "    return overall_accuracy\n",
    "\n",
    "def cross_validate(neuron_arch):\n",
    "    fold_accuracies = []\n",
    "    kf = KFold(n_splits = 4, random_state=2, shuffle=True)\n",
    "    for train_index, test_index in kf.split(data):\n",
    "        train_features, test_features = data.iloc[train_index], data.iloc[test_index]\n",
    "        train_target, test_target = labels.iloc[train_index], labels.iloc[test_index]\n",
    "        model = train_nn(neuron_arch, train_features, train_target)\n",
    "        overall_accuracy = test(model, test_features, test_target)\n",
    "        fold_accuracies.append(overall_accuracy)\n",
    "    return fold_accuracies"
   ]
  },
  {
   "cell_type": "code",
   "execution_count": 10,
   "metadata": {},
   "outputs": [
    {
     "data": {
      "image/png": "[encoded data removed]",
      "text/plain": [
       "<Figure size 800x400 with 1 Axes>"
      ]
     },
     "metadata": {},
     "output_type": "display_data"
    }
   ],
   "source": [
    "nn_one_neurons = [(8,), (16,), (32,), (64,), (128,), (256,)]\n",
    "nn_one_accuracies = []\n",
    "\n",
    "for n in nn_one_neurons:\n",
    "    nn_accuracies = cross_validate(n)\n",
    "    nn_mean_accuracy = np.mean(nn_accuracies)\n",
    "    nn_one_accuracies.append(nn_mean_accuracy)\n",
    "    \n",
    "x = [i[0] for i in nn_one_neurons]\n",
    "y = nn_one_accuracies\n",
    "\n",
    "plt.figure(figsize=(8,4))\n",
    "plt.plot(x, y)\n",
    "plt.title('Neural Network with one hidden layer')\n",
    "plt.xlabel('Number of neurons')\n",
    "plt.ylabel('Mean accuracy')\n",
    "plt.show()"
   ]
  },
  {
   "cell_type": "code",
   "execution_count": 11,
   "metadata": {},
   "outputs": [
    {
     "data": {
      "text/plain": [
       "[0.9326664192031675,\n",
       " 0.9660504825538234,\n",
       " 0.9643912397921307,\n",
       " 0.9660603810937887,\n",
       " 0.9716270725068052,\n",
       " 0.9799715416975996]"
      ]
     },
     "execution_count": 11,
     "metadata": {},
     "output_type": "execute_result"
    }
   ],
   "source": [
    "nn_one_accuracies"
   ]
  },
  {
   "cell_type": "markdown",
   "metadata": {},
   "source": [
    "It looks like adding more neurons to the single hidden layer improved the classification accuracy to approximately 97%. Considering that k-nearest neighbors achieved approximately 98% of accuracy, it doesn't seem to have any advantages to using a single hidden layer neural network for this problem.\n",
    "\n",
    "Let's try using two hidden layers and continue to increase the number of neurons in each layer.\n",
    "\n",
    "## Neural Network With Two Hidden Layers"
   ]
  },
  {
   "cell_type": "code",
   "execution_count": 12,
   "metadata": {},
   "outputs": [
    {
     "data": {
      "image/png": "[encoded data removed]",
      "text/plain": [
       "<Figure size 800x400 with 1 Axes>"
      ]
     },
     "metadata": {},
     "output_type": "display_data"
    }
   ],
   "source": [
    "nn_two_neurons = [(64,64), (128,128), (256,256)]\n",
    "nn_two_accuracies = []\n",
    "\n",
    "for n in nn_two_neurons:\n",
    "    nn_accuracies = cross_validate(n)\n",
    "    nn_mean_accuracy = np.mean(nn_accuracies)\n",
    "    nn_two_accuracies.append(nn_mean_accuracy)\n",
    "    \n",
    "x = [i[0] for i in nn_two_neurons]\n",
    "y = nn_two_accuracies\n",
    "\n",
    "plt.figure(figsize=(8,4))\n",
    "plt.plot(x, y)\n",
    "plt.title('Neural Network with two hidden layers')\n",
    "plt.xlabel('Number of neurons')\n",
    "plt.ylabel('Mean accuracy')\n",
    "plt.show()"
   ]
  },
  {
   "cell_type": "code",
   "execution_count": 13,
   "metadata": {},
   "outputs": [
    {
     "data": {
      "text/plain": [
       "[0.971070279633754, 0.9755209106656768, 0.9821962385548132]"
      ]
     },
     "execution_count": 13,
     "metadata": {},
     "output_type": "execute_result"
    }
   ],
   "source": [
    "nn_two_accuracies"
   ]
  },
  {
   "cell_type": "markdown",
   "metadata": {},
   "source": [
    "The neural network with two hidden layers has improved the classification accuracy to approximately 98%. Using more hidden layers is known to increase the amount of overfitting that happens. \n",
    "\n",
    "To help us prevent overfitting, let's increase the number of folds we use for k-fold cross-validation to 6 while testing networks with 3 hidden layers.\n",
    "\n",
    "## Neural Network With Three Hidden Layers"
   ]
  },
  {
   "cell_type": "code",
   "execution_count": 14,
   "metadata": {},
   "outputs": [],
   "source": [
    "def train_nn(neuron_arch, train_features, train_target):\n",
    "    mlp = MLPClassifier(hidden_layer_sizes=neuron_arch, max_iter=2000)\n",
    "    mlp.fit(train_features, train_target)\n",
    "    return mlp\n",
    "\n",
    "def test(model, test_features, test_target):\n",
    "    predictions = model.predict(test_features)\n",
    "    train_test_df = pd.DataFrame()\n",
    "    train_test_df['true_label'] = test_target\n",
    "    train_test_df['predicted_label'] = predictions\n",
    "    overall_accuracy = sum(train_test_df[\"predicted_label\"] == train_test_df[\"true_label\"])/len(train_test_df)    \n",
    "    return overall_accuracy\n",
    "\n",
    "def cross_validate_six(neuron_arch):\n",
    "    fold_accuracies = []\n",
    "    kf = KFold(n_splits = 6, random_state=2, shuffle=True)\n",
    "    for train_index, test_index in kf.split(data):\n",
    "        train_features, test_features = data.iloc[train_index], data.iloc[test_index]\n",
    "        train_target, test_target = labels.iloc[train_index], labels.iloc[test_index]\n",
    "        model = train_nn(neuron_arch, train_features, train_target)\n",
    "        overall_accuracy = test(model, test_features, test_target)\n",
    "        fold_accuracies.append(overall_accuracy)\n",
    "    return fold_accuracies"
   ]
  },
  {
   "cell_type": "code",
   "execution_count": 15,
   "metadata": {},
   "outputs": [
    {
     "data": {
      "image/png": "[encoded data removed]",
      "text/plain": [
       "<Figure size 800x400 with 1 Axes>"
      ]
     },
     "metadata": {},
     "output_type": "display_data"
    }
   ],
   "source": [
    "nn_three_neurons = [(10,10,10), (64,64,64), (128,128,128)]\n",
    "nn_three_accuracies = []\n",
    "\n",
    "for n in nn_three_neurons:\n",
    "    nn_accuracies = cross_validate_six(n)\n",
    "    nn_mean_accuracy = np.mean(nn_accuracies)\n",
    "    nn_three_accuracies.append(nn_mean_accuracy)\n",
    "    \n",
    "x = [i[0] for i in nn_two_neurons]\n",
    "y = nn_three_accuracies\n",
    "\n",
    "plt.figure(figsize=(8,4))\n",
    "plt.plot(x, y)\n",
    "plt.title('Neural Network with three hidden layers')\n",
    "plt.xlabel('Number of neurons')\n",
    "plt.ylabel('Mean accuracy')\n",
    "plt.show()"
   ]
  },
  {
   "cell_type": "code",
   "execution_count": 16,
   "metadata": {},
   "outputs": [
    {
     "data": {
      "text/plain": [
       "[0.9415719063545152, 0.969946116685247, 0.9766443701226311]"
      ]
     },
     "execution_count": 16,
     "metadata": {},
     "output_type": "execute_result"
    }
   ],
   "source": [
    "nn_three_accuracies"
   ]
  },
  {
   "cell_type": "markdown",
   "metadata": {},
   "source": [
    "The neural network with three hidden layers has improved the classification accuracy to approximately 98%, even with 6-fold cross-validation. This suggests overfitting could still be happening.\n",
    "\n",
    "## Conclusion\n",
    "\n",
    "In this project, we experimented with different models to classify handwritten digits. It doesn't seem that increasing the number of hidden layers with different numbers of neurons in the neural network model has brought a significant improvement in terms of accuracy. It is previously known that this could be due to overfitting."
   ]
  }
 ],
 "metadata": {
  "anaconda-cloud": {},
  "kernelspec": {
   "display_name": "Python 3",
   "language": "python",
   "name": "python3"
  },
  "language_info": {
   "codemirror_mode": {
    "name": "ipython",
    "version": 3
   },
   "file_extension": ".py",
   "mimetype": "text/x-python",
   "name": "python",
   "nbconvert_exporter": "python",
   "pygments_lexer": "ipython3",
   "version": "3.8.5"
  }
 },
 "nbformat": 4,
 "nbformat_minor": 2
}
