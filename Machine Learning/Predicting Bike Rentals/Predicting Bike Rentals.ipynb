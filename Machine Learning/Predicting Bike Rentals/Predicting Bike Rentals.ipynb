{
 "cells": [
  {
   "cell_type": "markdown",
   "metadata": {
    "collapsed": true
   },
   "source": [
    "# Predicting Bike Rentals\n",
    "\n",
    "## Introduction to the Dataset\n",
    "\n",
    "Many U.S. cities have communal bike-sharing stations where we can rent bicycles by the hour or day. Washington, D.C. is one of these cities. The District collects detailed data on the number of bicycles people rent by the hour and day.\n",
    "\n",
    "The CSV file used in this project contains `17379` rows, with each row representing the number of bike rentals for a single hour of a single day. It can be downloaded from the [University of California, Irvine's website](http://archive.ics.uci.edu/ml/datasets/Bike+Sharing+Dataset).\n",
    "\n",
    "Here are the descriptions for the relevant columns:\n",
    "\n",
    "- **`instant`:** A unique sequential ID number for each row\n",
    "- **`dteday`:** The date of the rentals\n",
    "- **`season`:** The season in which the rentals occurred\n",
    "- **`yr`:** The year the rentals occurred\n",
    "- **`mnth`:** The month the rentals occurred\n",
    "- **`hr`:** The hour the rentals occurred\n",
    "- **`holiday`:** Whether or not the day was a holiday\n",
    "- **`weekday`:** The day of the week (as a number, 0 to 7)\n",
    "- **`workingday`:** Whether or not the day was a working day\n",
    "- **`weathersit`:** The weather (as a categorical variable)\n",
    "- **`temp`:** The temperature, on a 0-1 scale\n",
    "- **`atemp`:** The adjusted temperature\n",
    "- **`hum`:** The humidity, on a 0-1 scale\n",
    "- **`windspeed`:** The wind speed, on a 0-1 scale\n",
    "- **`casual`:** The number of casual riders (people who hadn't previously signed up with the bike sharing scheme)\n",
    "- **`registered`:** The number of registered riders (people who had already signed up)\n",
    "- **`cnt`:** The total number of bike rentals (casual + registered)\n",
    "\n",
    "In this project, we'll try to predict the total number of bikes people rented in a given hour. We'll predict the **`cnt`** column using all of the other columns, except for **`casual`** and **`registered`**. To accomplish this, we'll create a few different machine learning models and evaluate their performances.\n",
    "\n",
    "Let's start with reading in the dataset and doing some initial investigation of the data."
   ]
  },
  {
   "cell_type": "code",
   "execution_count": 1,
   "metadata": {
    "scrolled": true
   },
   "outputs": [
    {
     "data": {
      "text/html": [
       "<div>\n",
       "<style scoped>\n",
       "    .dataframe tbody tr th:only-of-type {\n",
       "        vertical-align: middle;\n",
       "    }\n",
       "\n",
       "    .dataframe tbody tr th {\n",
       "        vertical-align: top;\n",
       "    }\n",
       "\n",
       "    .dataframe thead th {\n",
       "        text-align: right;\n",
       "    }\n",
       "</style>\n",
       "<table border=\"1\" class=\"dataframe\">\n",
       "  <thead>\n",
       "    <tr style=\"text-align: right;\">\n",
       "      <th></th>\n",
       "      <th>instant</th>\n",
       "      <th>dteday</th>\n",
       "      <th>season</th>\n",
       "      <th>yr</th>\n",
       "      <th>mnth</th>\n",
       "      <th>hr</th>\n",
       "      <th>holiday</th>\n",
       "      <th>weekday</th>\n",
       "      <th>workingday</th>\n",
       "      <th>weathersit</th>\n",
       "      <th>temp</th>\n",
       "      <th>atemp</th>\n",
       "      <th>hum</th>\n",
       "      <th>windspeed</th>\n",
       "      <th>casual</th>\n",
       "      <th>registered</th>\n",
       "      <th>cnt</th>\n",
       "    </tr>\n",
       "  </thead>\n",
       "  <tbody>\n",
       "    <tr>\n",
       "      <th>0</th>\n",
       "      <td>1</td>\n",
       "      <td>2011-01-01</td>\n",
       "      <td>1</td>\n",
       "      <td>0</td>\n",
       "      <td>1</td>\n",
       "      <td>0</td>\n",
       "      <td>0</td>\n",
       "      <td>6</td>\n",
       "      <td>0</td>\n",
       "      <td>1</td>\n",
       "      <td>0.24</td>\n",
       "      <td>0.2879</td>\n",
       "      <td>0.81</td>\n",
       "      <td>0.0</td>\n",
       "      <td>3</td>\n",
       "      <td>13</td>\n",
       "      <td>16</td>\n",
       "    </tr>\n",
       "    <tr>\n",
       "      <th>1</th>\n",
       "      <td>2</td>\n",
       "      <td>2011-01-01</td>\n",
       "      <td>1</td>\n",
       "      <td>0</td>\n",
       "      <td>1</td>\n",
       "      <td>1</td>\n",
       "      <td>0</td>\n",
       "      <td>6</td>\n",
       "      <td>0</td>\n",
       "      <td>1</td>\n",
       "      <td>0.22</td>\n",
       "      <td>0.2727</td>\n",
       "      <td>0.80</td>\n",
       "      <td>0.0</td>\n",
       "      <td>8</td>\n",
       "      <td>32</td>\n",
       "      <td>40</td>\n",
       "    </tr>\n",
       "    <tr>\n",
       "      <th>2</th>\n",
       "      <td>3</td>\n",
       "      <td>2011-01-01</td>\n",
       "      <td>1</td>\n",
       "      <td>0</td>\n",
       "      <td>1</td>\n",
       "      <td>2</td>\n",
       "      <td>0</td>\n",
       "      <td>6</td>\n",
       "      <td>0</td>\n",
       "      <td>1</td>\n",
       "      <td>0.22</td>\n",
       "      <td>0.2727</td>\n",
       "      <td>0.80</td>\n",
       "      <td>0.0</td>\n",
       "      <td>5</td>\n",
       "      <td>27</td>\n",
       "      <td>32</td>\n",
       "    </tr>\n",
       "    <tr>\n",
       "      <th>3</th>\n",
       "      <td>4</td>\n",
       "      <td>2011-01-01</td>\n",
       "      <td>1</td>\n",
       "      <td>0</td>\n",
       "      <td>1</td>\n",
       "      <td>3</td>\n",
       "      <td>0</td>\n",
       "      <td>6</td>\n",
       "      <td>0</td>\n",
       "      <td>1</td>\n",
       "      <td>0.24</td>\n",
       "      <td>0.2879</td>\n",
       "      <td>0.75</td>\n",
       "      <td>0.0</td>\n",
       "      <td>3</td>\n",
       "      <td>10</td>\n",
       "      <td>13</td>\n",
       "    </tr>\n",
       "    <tr>\n",
       "      <th>4</th>\n",
       "      <td>5</td>\n",
       "      <td>2011-01-01</td>\n",
       "      <td>1</td>\n",
       "      <td>0</td>\n",
       "      <td>1</td>\n",
       "      <td>4</td>\n",
       "      <td>0</td>\n",
       "      <td>6</td>\n",
       "      <td>0</td>\n",
       "      <td>1</td>\n",
       "      <td>0.24</td>\n",
       "      <td>0.2879</td>\n",
       "      <td>0.75</td>\n",
       "      <td>0.0</td>\n",
       "      <td>0</td>\n",
       "      <td>1</td>\n",
       "      <td>1</td>\n",
       "    </tr>\n",
       "  </tbody>\n",
       "</table>\n",
       "</div>"
      ],
      "text/plain": [
       "   instant      dteday  season  yr  mnth  hr  holiday  weekday  workingday  \\\n",
       "0        1  2011-01-01       1   0     1   0        0        6           0   \n",
       "1        2  2011-01-01       1   0     1   1        0        6           0   \n",
       "2        3  2011-01-01       1   0     1   2        0        6           0   \n",
       "3        4  2011-01-01       1   0     1   3        0        6           0   \n",
       "4        5  2011-01-01       1   0     1   4        0        6           0   \n",
       "\n",
       "   weathersit  temp   atemp   hum  windspeed  casual  registered  cnt  \n",
       "0           1  0.24  0.2879  0.81        0.0       3          13   16  \n",
       "1           1  0.22  0.2727  0.80        0.0       8          32   40  \n",
       "2           1  0.22  0.2727  0.80        0.0       5          27   32  \n",
       "3           1  0.24  0.2879  0.75        0.0       3          10   13  \n",
       "4           1  0.24  0.2879  0.75        0.0       0           1    1  "
      ]
     },
     "execution_count": 1,
     "metadata": {},
     "output_type": "execute_result"
    }
   ],
   "source": [
    "import pandas as pd\n",
    "\n",
    "# Read in the dataset and visualise the first few rows\n",
    "bike_rentals = pd.read_csv('bike_rental_hour.csv')\n",
    "bike_rentals.head()"
   ]
  },
  {
   "cell_type": "markdown",
   "metadata": {},
   "source": [
    "We'll make a histogram of the `cnt` column and take a look at the *distribution* of total bike rentals."
   ]
  },
  {
   "cell_type": "code",
   "execution_count": 2,
   "metadata": {},
   "outputs": [
    {
     "data": {
      "image/png": "[encoded data removed]",
      "text/plain": [
       "<matplotlib.figure.Figure at 0x7fec8b2744e0>"
      ]
     },
     "metadata": {},
     "output_type": "display_data"
    }
   ],
   "source": [
    "import matplotlib.pyplot as plt\n",
    "%matplotlib inline\n",
    "\n",
    "plt.hist(bike_rentals['cnt'])\n",
    "plt.xlabel('Bike rentals per hour (cnt column)')\n",
    "plt.ylabel('Frequency')\n",
    "plt.text(x=-250, y=8000, \n",
    "         s='Frequency of bike rentals per hour over the years 2011-2012',\n",
    "        size=16)\n",
    "plt.show()"
   ]
  },
  {
   "cell_type": "markdown",
   "metadata": {},
   "source": [
    "Looking at the histogram we generated for the **`cnt`** column, we can make a few quick observations about the following:\n",
    "\n",
    "- *Range*: Over the two years (2011 and 2012), the values ranged between 0 and 1,000 bike rentals per hour.\n",
    "\n",
    "\n",
    "- The *distribution* of the bike rentals:\n",
    "  - Most typically, the number of bike rentals per hour varies between 1 and 100.\n",
    "  - For most of the single hours of each day, the number of bike rentals ranges between 1 and 400.\n",
    "  - Most uncommonly, the number of bike rentals per hour goes over 400.\n",
    "  \n",
    "  \n",
    "Below we see how each column is correlated with **`cnt`** column."
   ]
  },
  {
   "cell_type": "code",
   "execution_count": 3,
   "metadata": {},
   "outputs": [
    {
     "data": {
      "text/plain": [
       "instant       0.278379\n",
       "season        0.178056\n",
       "yr            0.250495\n",
       "mnth          0.120638\n",
       "hr            0.394071\n",
       "holiday      -0.030927\n",
       "weekday       0.026900\n",
       "workingday    0.030284\n",
       "weathersit   -0.142426\n",
       "temp          0.404772\n",
       "atemp         0.400929\n",
       "hum          -0.322911\n",
       "windspeed     0.093234\n",
       "casual        0.694564\n",
       "registered    0.972151\n",
       "cnt           1.000000\n",
       "Name: cnt, dtype: float64"
      ]
     },
     "execution_count": 3,
     "metadata": {},
     "output_type": "execute_result"
    }
   ],
   "source": [
    "bike_rentals.corr()['cnt']"
   ]
  },
  {
   "cell_type": "markdown",
   "metadata": {},
   "source": [
    "## Calculating Features\n",
    "\n",
    "The **`hr`** column contains the hours during which bikes are rented, from **`0`** to **`23`**. A machine treats each hour differently, without understanding that certain hours are related. We can introduce some order into the process by creating a new column with categorical labels. This bundles similar times together, enabling the model to make better decisions.\n",
    "\n",
    "We'll write a function called **`assign_label`** that takes in a numeric value for an hour, and returns:\n",
    " - **`1`** if the hour is from **`6`** to **`12`**\n",
    " - **`2`** if the hour is from **`12`** to **`18`**\n",
    " - **`3`** if the hour is from **`18`** to **`24`**\n",
    " - **`4`** if the hour is from **`0`** to **`6`**\n",
    " \n",
    "Then we will apply the function to each item in the **`hr`** column and assign the result to a new column called **`time_label`**. "
   ]
  },
  {
   "cell_type": "code",
   "execution_count": 4,
   "metadata": {},
   "outputs": [
    {
     "data": {
      "text/plain": [
       "-0.3783183000693379"
      ]
     },
     "execution_count": 4,
     "metadata": {},
     "output_type": "execute_result"
    }
   ],
   "source": [
    "# Create the function that returns categorical labels\n",
    "def assign_label(hour):\n",
    "    if hour >= 6 and hour < 12:\n",
    "        return 1\n",
    "    elif hour >= 12 and hour < 18:\n",
    "        return 2\n",
    "    elif hour >= 18 and hour < 24:\n",
    "        return 3\n",
    "    elif hour >= 0 and hour < 6:\n",
    "        return 4\n",
    "    \n",
    "# Apply the function and assign the results to a new column\n",
    "bike_rentals['time_label'] = bike_rentals['hr'].apply(assign_label)\n",
    "\n",
    "# Check how the new column is correlated with 'cnt' column\n",
    "bike_rentals.corr()['cnt']['time_label']"
   ]
  },
  {
   "cell_type": "markdown",
   "metadata": {},
   "source": [
    "## Splitting the data into Train and Test Sets\n",
    "\n",
    "Before we begin applying machine learning algorithms, we'll split the data into *training* and *testing* sets. This will enable us to train an algorithm using the training set, and evaluate its accuracy on the testing set.\n",
    "\n",
    "We will select 80% of the rows in the dataset to be part of the *training* set and the remaining rows to be part of the *testing* set."
   ]
  },
  {
   "cell_type": "code",
   "execution_count": 5,
   "metadata": {
    "collapsed": true
   },
   "outputs": [],
   "source": [
    "# Select randomly 80% of the rows in 'bike_rentals'\n",
    "train = bike_rentals.sample(frac=0.8, random_state=1)\n",
    "\n",
    "# Select the rows that are in 'bike_rentals' but not in 'train'\n",
    "test = bike_rentals.loc[~bike_rentals.index.isin(train.index)]"
   ]
  },
  {
   "cell_type": "markdown",
   "metadata": {},
   "source": [
    "## Machine Learning Algorithms and Error Metric\n",
    "\n",
    "Since the **`cnt`** column contains numeric values, the following machine learning algorithms will be used for modelling:\n",
    "\n",
    "- Linear Regression\n",
    "- Decision Tree Regression\n",
    "- Random Forest Regression\n",
    "\n",
    "Our exploration of the **`cnt`** column showed us the absence of outliers. Given that, the RMSE is a good choice of an error metric to evaluate the performance of the different models.\n",
    "\n",
    "In addition, the RMSE is particularly useful for comparing the fit of different regression models and its interpretation is easy, the lower the RMSE, the better a given model is able to “fit” a dataset.\n",
    "\n",
    "We will apply all the machine learning algorithms mentioned above using only their *default* settings and compare which one performs better on our dataset."
   ]
  },
  {
   "cell_type": "code",
   "execution_count": 6,
   "metadata": {
    "collapsed": true
   },
   "outputs": [],
   "source": [
    "# Import libraries\n",
    "from sklearn.linear_model import LinearRegression\n",
    "from sklearn.tree import DecisionTreeRegressor\n",
    "from sklearn.ensemble import RandomForestRegressor\n",
    "from sklearn.metrics import mean_squared_error\n",
    "import numpy as np\n",
    "\n",
    "# Select features and target columns\n",
    "features = train.columns.drop(['dteday', 'casual', 'registered', 'cnt'])\n",
    "target = 'cnt'"
   ]
  },
  {
   "cell_type": "markdown",
   "metadata": {},
   "source": [
    "## Applying Linear Regression"
   ]
  },
  {
   "cell_type": "code",
   "execution_count": 7,
   "metadata": {},
   "outputs": [
    {
     "name": "stdout",
     "output_type": "stream",
     "text": [
      "RMSE using Linear Regression is: 130.5837848710458\n"
     ]
    }
   ],
   "source": [
    "# Instantiate the model\n",
    "lr = LinearRegression()\n",
    "\n",
    "# Fit the model on the train set\n",
    "lr.fit(train[features], train[target])\n",
    "\n",
    "# Make predictions on the test set\n",
    "lr_predictions = lr.predict(test[features])\n",
    "\n",
    "# Compute the error between predictions and actual values\n",
    "lr_mse = mean_squared_error(test[target], lr_predictions)\n",
    "lr_rmse = np.sqrt(lr_mse)\n",
    "print('RMSE using Linear Regression is: {}'.format(lr_rmse))"
   ]
  },
  {
   "cell_type": "markdown",
   "metadata": {},
   "source": [
    "## Applying Decision Tree"
   ]
  },
  {
   "cell_type": "code",
   "execution_count": 8,
   "metadata": {},
   "outputs": [
    {
     "name": "stdout",
     "output_type": "stream",
     "text": [
      "RMSE using Decision Tree is: 56.775183499923116\n"
     ]
    }
   ],
   "source": [
    "# Instantiate the model\n",
    "dt = DecisionTreeRegressor(random_state=1)\n",
    "\n",
    "# Fit the model on the train set\n",
    "dt.fit(train[features], train[target])\n",
    "\n",
    "# Make predictions on the test set\n",
    "dt_predictions = dt.predict(test[features])\n",
    "\n",
    "# Compute the error between predictions and actual values\n",
    "dt_mse = mean_squared_error(test[target], dt_predictions)\n",
    "dt_rmse = np.sqrt(dt_mse)\n",
    "print('RMSE using Decision Tree is: {}'.format(dt_rmse))"
   ]
  },
  {
   "cell_type": "markdown",
   "metadata": {},
   "source": [
    "## Applying Random Forests"
   ]
  },
  {
   "cell_type": "code",
   "execution_count": 9,
   "metadata": {},
   "outputs": [
    {
     "name": "stdout",
     "output_type": "stream",
     "text": [
      "RMSE using Random Forest is: 45.66435871116254\n"
     ]
    }
   ],
   "source": [
    "# Instantiate the model\n",
    "rf = RandomForestRegressor(random_state=1)\n",
    "\n",
    "# Fit the model on the train set\n",
    "rf.fit(train[features], train[target])\n",
    "\n",
    "# Make predictions on the test set\n",
    "rf_predictions = rf.predict(test[features])\n",
    "\n",
    "# Compute the error between predictions and actual values\n",
    "rf_mse = mean_squared_error(test[target], rf_predictions)\n",
    "rf_rmse = np.sqrt(rf_mse)\n",
    "print('RMSE using Random Forest is: {}'.format(rf_rmse))"
   ]
  },
  {
   "cell_type": "markdown",
   "metadata": {},
   "source": [
    "## Conclusion\n",
    "\n",
    "Among the above models, Random Forest has shown the best result when each of them has been applied using only their *default* settings. Below are a few reasons that comply with the obtained result.\n",
    "\n",
    " - Linear regression works best when features are linearly correlated to the target column.\n",
    "\n",
    " - Decision trees tend to predict outcomes much more reliably than linear regression models because a decision tree is a fairly complex model.\n",
    "\n",
    " - Random forest algorithm, which improves on the decision tree algorithm, tends to be much more accurate than simple models like linear regression."
   ]
  }
 ],
 "metadata": {
  "kernelspec": {
   "display_name": "Python 3",
   "language": "python",
   "name": "python3"
  },
  "language_info": {
   "codemirror_mode": {
    "name": "ipython",
    "version": 3
   },
   "file_extension": ".py",
   "mimetype": "text/x-python",
   "name": "python",
   "nbconvert_exporter": "python",
   "pygments_lexer": "ipython3",
   "version": "3.8.5"
  }
 },
 "nbformat": 4,
 "nbformat_minor": 1
}
